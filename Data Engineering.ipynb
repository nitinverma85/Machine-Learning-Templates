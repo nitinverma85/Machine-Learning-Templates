{
 "cells": [
  {
   "cell_type": "markdown",
   "metadata": {},
   "source": [
    "\n",
    "# Data engineering involves\n",
    "\n",
    "- Ingest data from a data source\n",
    "- Build and mantain a data warehouse\n",
    "- Create a data pipeline\n",
    "- Create an analytics table for a specific use case\n",
    "- Migrate data to the cloud\n",
    "- Schedule and automate pipelines (Airflow provides status)\n",
    "- Backfill data\n",
    "- Debug data quality issues\n",
    "- Optimise queries\n",
    "- Design a database\n",
    "\n",
    "Tools used\n",
    "Spark, Presto, Apache Airflow, Redshift\n",
    "Hadoop, Spark, EMR, Lambda, Athena\n"
   ]
  },
  {
   "cell_type": "markdown",
   "metadata": {},
   "source": [
    "## Data modelling (How to build databases)\n",
    "\n",
    "- There are 2 options available : Relational and No SQL Datatbases.\n",
    "- Relational means multiple tables. SQL is used to interact. eg. Oracle, Teradata, MySql, Postgres, SQLite\n",
    "- Relational databases expand vertically as more data is added. Good for small data. \n",
    "- NoSQL databases expand horizontally. So, more machines can be added. Faster to retrieve.Good for large data. Is usually faster than Relational DB. More machine nodes increases speed (read/write) linearly. Does not support Joins, aggregations, etc. \n",
    "- SQL is still used where ACID transactions are required (like ensure all DBs are updated only if the whole banking transaction is complete). \n",
    "- Example of noSQL : Apache Cassandra (Similar to SQL but broken into multiple nodes), Mongo DB (Documents), DynamoDB (Key value), Apache HBase"
   ]
  },
  {
   "cell_type": "markdown",
   "metadata": {},
   "source": [
    "# SQL Databases\n",
    "\n",
    "## OLAP vs OLTP\n",
    "\n",
    "Databases can be optimised for either Online Analytical processing or Online transactional processing.\n",
    "\n",
    "- OLAP means we need databases that are suited for analytical purposes that do aggregation pretty well. Eg, how many PRs arrived in Australia. Should READ well. \n",
    "- OLTP means we need databases that are suited for transational purposes that read data for a large set of data very well. What was the passport number of Navneet Singh when he arrived to Australia. Should READ, INSERT, UPDATE and DELETE. \n",
    "\n",
    "## Normalisation\n",
    "\n",
    "- We need to reduce data redundancy\n",
    "- We need to increase data integrity\n",
    "\n",
    "Example- Singers sing songs for albums. Each album completes in 1 year. \n",
    "\n",
    "Before normalisation DB\n",
    "\n",
    "<img src=\"IMAGES/1.png\" width=400 height=400 />\n",
    "\n",
    "\n",
    "\n",
    "#### First normal form\n",
    "- If there are multiple values present in a cell, break that cell into multiple rows\n",
    "\n",
    "\n",
    "<img src=\"IMAGES/2.png\" width=400 height=400 />\n",
    "\n",
    "#### Second normal form\n",
    "- Data in the table should only be dependent on the primary key\n",
    "\n",
    "<img src=\"IMAGES/3.png\" width=400 height=400 />\n",
    "\n",
    "#### Third Normal form\n",
    "- Data in the table should only be dependent on the primary key only\n",
    "\n",
    "\n",
    "## Denormalisation\n",
    "- Done in order to increase performance\n",
    "\n",
    "\n",
    "\n"
   ]
  },
  {
   "cell_type": "code",
   "execution_count": null,
   "metadata": {},
   "outputs": [],
   "source": []
  }
 ],
 "metadata": {
  "kernelspec": {
   "display_name": "Python 3",
   "language": "python",
   "name": "python3"
  },
  "language_info": {
   "codemirror_mode": {
    "name": "ipython",
    "version": 3
   },
   "file_extension": ".py",
   "mimetype": "text/x-python",
   "name": "python",
   "nbconvert_exporter": "python",
   "pygments_lexer": "ipython3",
   "version": "3.8.5"
  }
 },
 "nbformat": 4,
 "nbformat_minor": 2
}
