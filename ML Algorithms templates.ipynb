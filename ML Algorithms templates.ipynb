{
 "cells": [
  {
   "cell_type": "markdown",
   "metadata": {},
   "source": [
    "# ML Algorithms templates\n",
    "\n",
    "#### Basics\n",
    "1. If we plot errors (example mean squared) for different models, the model for which error is minimum is the best model. We find the least error using gradient descent method. \n",
    "2. In gradient method, you can decrease the parameter of the model by the learning rate each time to find the global minima of the cost function\n",
    "\n",
    "#### Loss function optimisation techniques\n",
    "1. Loss function : A function that calculates the error of your model. One example is Mean squared error which is typically used for Linear regression. \n",
    "2. Gradient Descent: We start with a set of random hyperparameters and then gradually decrease the loss function by calculating the gradient (derivative of loss function) w.r.t each hyperparameter. We try to move towards a gradient of 0 by moving the hyperparameter by a value equal to the learning rate. \n",
    "3. Stochastic Gradient Descent : Instead of passing all data to calculate the loss function, we pass a single observation to save time and compute instances. If we pass a small batch, its called Mini-batch stochastic gradient descent. SGD makes sequential passes over the training data, and during each pass, updates feature weights one example at a time with the aim of approaching the optimal weights that minimize the loss.\n",
    "\n",
    "\n",
    "#### Different types of ML\n",
    "1. Supervised: Labels are available. Further divided into regression and classification.Further divided into binary and multiclass classification\n",
    "2. Unsupervised: Labels are not available. Usually used for grouping information together. Further divided into Clustering, Dimensionality reduction and group words that have a similar meaning together. \n",
    "3. Reinforcement: We don’t give computers labels but want supervised answers. So, we give computers features and outcomes that would produce best answers. For example, if we are playing a game of chess, if we give data about what winners and losers did and whether they lost or won, it would be supervised learning. But if we tell the computer what winning and losing means, and give them lots of instances to train on, it would be reinforcement learning. \n",
    "\n",
    "#### Steps of ML\n",
    "1. Frame the core ML problem i.e what are you trying to predict?\n",
    "2. Collect data\n",
    "3. Analyze data\n",
    "4. Missing values\n",
    "5. Balanced classes in label/target variable?\n",
    "6. Variable target correlations (We might be inclined to include variables that have a high correlation with the target label)\n",
    "7. Feature engineering\n",
    "8. Feature selection\n",
    "9. Train the model\n",
    "10. Split data into test/train OR test/train/validation\n",
    "11. Validation data : Not seen by the model during training but indirectly used by the model to tune hyperparameters\n",
    "12. In a 10 fold cross validation, we divide the training data into 10 parts, 9 are used to train and 10th is used as validation data. If we continue this for 100 epochs, the 10th validation data is picked up randomly in each epoch. Do, validation data is picked up randomly from testing data itself, no need to split the data into validation dataset separately. \n",
    "13. Ensure both test and train data are random\n",
    "14. Evaluate and improve model accuracy\n",
    "15. Deploy the model\n",
    "\n",
    "#### Handling missing data\n",
    "\n",
    "1. Drop instances/observations using dropna method. Good for independent observations. eg. looking at car traffic of different suburbs\n",
    "2. Replace na with mean of the respective column\n",
    "3. Replace na with 0 \n",
    "4. Replace na with mean\n",
    "5. Replace na with interpolation (connect with last known values in the index) good for time-series data eg. looking at car traffic within a suburb at different hours of a day \n",
    "6. Replace na with forward fill (fill data of last observation with future observation)\n",
    "7. Replace na with backward fill\n",
    "8. Replace missing values with an average of values when grouped by values. Eg. looking at car traffic of different suburbs, we can replace missing values by mean of the traffic of respective suburb\n",
    "\n",
    "#### Handling numerical data\n",
    "\n",
    "1. Can be used as is\n",
    "2. Normalization/Scaling: Subtracting mean from each observation and dividing by the standard deviation. Typically used when the features are in a  different range. Features with large magnitude can start dominating the outcome without normalization. \n",
    "3. Binning: In many cases, the relationship between a numeric feature and the target is not linear (the feature value does not increase or decrease monotonically with the target). In such cases, it might be useful to bin the numeric feature into categorical features representing different ranges of the numeric feature. Each categorical feature (bin) can then be modeled as having its own linear relationship with the target. For example, say you know that the continuous numeric feature age is not linearly correlated with the likelihood to purchase a book. You can bin age into categorical features that might be able to capture the relationship with the target more accurately. The optimum number of bins for a numeric variable is dependent on characteristics of the variable and its relationship to the target, and this is best determined through experimentation. \n",
    "4. Cartesian features\n",
    "5. Combining features. For eg, you have length, breadth, and height as separate variables; you can create a new volume feature to be a product of these three variables\n",
    "6. Clipping: In case of outliers, clip them to a particular value \n",
    "\n",
    "\n",
    "#### Handling categorical data\n",
    "\n",
    "1. One hot encoding\n",
    "2. Tree-based algorithms like XG Boost can handle categorical values if they are numeric, so no one-hot encoding required. So, for example, if one of the features is ‘day of week’, tree based argos can simply be used after converting ‘Mon’ to 1, ‘Tue’ to 2 and so on. \n",
    "3. Some algorithms like Linear regression doesn’t handle like XG Boost, so One hot encoding is required\n",
    "4. Cartesian transformations: Combine categorical features into new features \n",
    "\n",
    "\n",
    "#### Overfitting\n",
    "1. Decrease features\n",
    "2. Introduce regularisation\n",
    "\n",
    "\n",
    "#### Underfitting\n",
    "1. Introduce more features\n",
    "2. Introduce cartesian products\n",
    "3. Change the type of feature processing eg. change n-grams size\n",
    "4. Decrease the amount of regularisation used\n",
    "\n",
    "\n",
    "#### Importing data\n",
    "\n",
    "\n",
    "#### Regularization\n",
    "\n",
    "Regularisation is needed when we have overfitting. When we have overfitting, we can use either Ridge or Lasso regression which alters the cost function and adds another slope element in the cost function(it penalises higher slopes or coefficients). So, the new model tries to push coefficients of variables to 0 (or remove certain variables) in order to minimise cost function.  \n",
    "\n",
    "- New cost function is (x-mean(x))^2 + lambda*(Slope)^2 for Ridge regression (L2 regularisation)\n",
    "- New cost function is (x-mean(x))^2 + lambda*mod(Slope) for Lasso regression (L1 regularisation)\n",
    "\n",
    "Since penalisation is higher in Lasso regression, the slopes of many features to 0. This also helps in feature selection.\n",
    "\n",
    "\n",
    "1. It is the technique of desensitizing your data to a particular dimension. It is applied when our model overfits. Regularisation is achieved through regression (implementation is via regression). \n",
    "2. L1 regularization (Lasso regression) has the effect of reducing the number of features used in the model by pushing to zero the weights of features that would otherwise have small weights. Used when we use feature crossing between 2 features with loads of values which generates a huge amount of values, all of which might not be important.\n",
    "3. L2 regularisation (Ridge regression) : Unlike L1 regularisation which pushes the weights of the coefficients to 0, this just pushes it down, not zero.  We want the weights of each feature to be nearly equal.So, add a term for weights (multiplied by a constant which defines a weight for this, it's called lambda) in the loss function and penalise if the weights are too large.The weights added are a sum of squares of individual weights.When choosing a lambda value, the goal is to strike the right balance between simplicity and training-data fit:L2 regularization encourages weights to be small, but doesn't force them to exactly 0.0.If your lambda value is too high, your model will be simple, but you run the risk of underfitting your data. Your model won't learn enough about the training data to make useful predictions.If your lambda value is too low, your model will be more complex, and you run the risk of overfitting your data. Your model will learn too much about the particularities of the training data, and won't be able to generalize to new data.\n",
    "4. The 3rd option to regularise a model is Early stopping, that is, limiting the number of training steps or the learning rate.\n",
    "5. Regularization is extremely important in logistic regression modeling.Imagine that you assign a unique id to each example, and map each id to its own feature. If you don't specify a regularization function, the model will become completely overfit. That's because the model would try to drive loss to zero on all examples and never get there, driving the weights for each indicator feature to +infinity or -infinity. \n",
    "\n",
    "#### Cross Validation\n",
    "\n",
    "- Number of combinations the data is split into test and training sets (since data might not be random)\n"
   ]
  },
  {
   "cell_type": "code",
   "execution_count": 1,
   "metadata": {},
   "outputs": [
    {
     "data": {
      "text/html": [
       "<div>\n",
       "<style scoped>\n",
       "    .dataframe tbody tr th:only-of-type {\n",
       "        vertical-align: middle;\n",
       "    }\n",
       "\n",
       "    .dataframe tbody tr th {\n",
       "        vertical-align: top;\n",
       "    }\n",
       "\n",
       "    .dataframe thead th {\n",
       "        text-align: right;\n",
       "    }\n",
       "</style>\n",
       "<table border=\"1\" class=\"dataframe\">\n",
       "  <thead>\n",
       "    <tr style=\"text-align: right;\">\n",
       "      <th></th>\n",
       "      <th>CRIM</th>\n",
       "      <th>ZN</th>\n",
       "      <th>INDUS</th>\n",
       "      <th>CHAS</th>\n",
       "      <th>NOX</th>\n",
       "      <th>RM</th>\n",
       "      <th>AGE</th>\n",
       "      <th>DIS</th>\n",
       "      <th>RAD</th>\n",
       "      <th>TAX</th>\n",
       "      <th>PTRATIO</th>\n",
       "      <th>B</th>\n",
       "      <th>LSTAT</th>\n",
       "      <th>Price</th>\n",
       "    </tr>\n",
       "  </thead>\n",
       "  <tbody>\n",
       "    <tr>\n",
       "      <th>0</th>\n",
       "      <td>0.00632</td>\n",
       "      <td>18.0</td>\n",
       "      <td>2.31</td>\n",
       "      <td>0.0</td>\n",
       "      <td>0.538</td>\n",
       "      <td>6.575</td>\n",
       "      <td>65.2</td>\n",
       "      <td>4.0900</td>\n",
       "      <td>1.0</td>\n",
       "      <td>296.0</td>\n",
       "      <td>15.3</td>\n",
       "      <td>396.90</td>\n",
       "      <td>4.98</td>\n",
       "      <td>24.0</td>\n",
       "    </tr>\n",
       "    <tr>\n",
       "      <th>1</th>\n",
       "      <td>0.02731</td>\n",
       "      <td>0.0</td>\n",
       "      <td>7.07</td>\n",
       "      <td>0.0</td>\n",
       "      <td>0.469</td>\n",
       "      <td>6.421</td>\n",
       "      <td>78.9</td>\n",
       "      <td>4.9671</td>\n",
       "      <td>2.0</td>\n",
       "      <td>242.0</td>\n",
       "      <td>17.8</td>\n",
       "      <td>396.90</td>\n",
       "      <td>9.14</td>\n",
       "      <td>21.6</td>\n",
       "    </tr>\n",
       "    <tr>\n",
       "      <th>2</th>\n",
       "      <td>0.02729</td>\n",
       "      <td>0.0</td>\n",
       "      <td>7.07</td>\n",
       "      <td>0.0</td>\n",
       "      <td>0.469</td>\n",
       "      <td>7.185</td>\n",
       "      <td>61.1</td>\n",
       "      <td>4.9671</td>\n",
       "      <td>2.0</td>\n",
       "      <td>242.0</td>\n",
       "      <td>17.8</td>\n",
       "      <td>392.83</td>\n",
       "      <td>4.03</td>\n",
       "      <td>34.7</td>\n",
       "    </tr>\n",
       "    <tr>\n",
       "      <th>3</th>\n",
       "      <td>0.03237</td>\n",
       "      <td>0.0</td>\n",
       "      <td>2.18</td>\n",
       "      <td>0.0</td>\n",
       "      <td>0.458</td>\n",
       "      <td>6.998</td>\n",
       "      <td>45.8</td>\n",
       "      <td>6.0622</td>\n",
       "      <td>3.0</td>\n",
       "      <td>222.0</td>\n",
       "      <td>18.7</td>\n",
       "      <td>394.63</td>\n",
       "      <td>2.94</td>\n",
       "      <td>33.4</td>\n",
       "    </tr>\n",
       "    <tr>\n",
       "      <th>4</th>\n",
       "      <td>0.06905</td>\n",
       "      <td>0.0</td>\n",
       "      <td>2.18</td>\n",
       "      <td>0.0</td>\n",
       "      <td>0.458</td>\n",
       "      <td>7.147</td>\n",
       "      <td>54.2</td>\n",
       "      <td>6.0622</td>\n",
       "      <td>3.0</td>\n",
       "      <td>222.0</td>\n",
       "      <td>18.7</td>\n",
       "      <td>396.90</td>\n",
       "      <td>5.33</td>\n",
       "      <td>36.2</td>\n",
       "    </tr>\n",
       "  </tbody>\n",
       "</table>\n",
       "</div>"
      ],
      "text/plain": [
       "      CRIM    ZN  INDUS  CHAS    NOX     RM   AGE     DIS  RAD    TAX  \\\n",
       "0  0.00632  18.0   2.31   0.0  0.538  6.575  65.2  4.0900  1.0  296.0   \n",
       "1  0.02731   0.0   7.07   0.0  0.469  6.421  78.9  4.9671  2.0  242.0   \n",
       "2  0.02729   0.0   7.07   0.0  0.469  7.185  61.1  4.9671  2.0  242.0   \n",
       "3  0.03237   0.0   2.18   0.0  0.458  6.998  45.8  6.0622  3.0  222.0   \n",
       "4  0.06905   0.0   2.18   0.0  0.458  7.147  54.2  6.0622  3.0  222.0   \n",
       "\n",
       "   PTRATIO       B  LSTAT  Price  \n",
       "0     15.3  396.90   4.98   24.0  \n",
       "1     17.8  396.90   9.14   21.6  \n",
       "2     17.8  392.83   4.03   34.7  \n",
       "3     18.7  394.63   2.94   33.4  \n",
       "4     18.7  396.90   5.33   36.2  "
      ]
     },
     "execution_count": 1,
     "metadata": {},
     "output_type": "execute_result"
    }
   ],
   "source": [
    "import numpy as np\n",
    "import pandas as pd\n",
    "import matplotlib.pyplot as plt\n",
    "import seaborn as sns\n",
    "from sklearn.model_selection import train_test_split\n",
    "import sklearn as sklearn\n",
    "\n",
    "\n",
    "from sklearn.datasets import load_boston\n",
    "df=pd.DataFrame(data=load_boston().data,columns=load_boston().feature_names)\n",
    "df['Price']=load_boston().target\n",
    "X=df.iloc[:,:-1]\n",
    "y=df.iloc[:,-1]\n",
    "df.head()"
   ]
  },
  {
   "cell_type": "markdown",
   "metadata": {},
   "source": [
    "### Linear regression"
   ]
  },
  {
   "cell_type": "code",
   "execution_count": 2,
   "metadata": {},
   "outputs": [
    {
     "name": "stdout",
     "output_type": "stream",
     "text": [
      "[-12.46030057 -26.04862111 -33.07413798 -80.76237112 -33.31360656]\n",
      "Mean calculated using method 1 is -37.13180746769922\n",
      "Mean Calculated using method 2 is 21.894831181729213\n"
     ]
    }
   ],
   "source": [
    "from sklearn.linear_model import LinearRegression\n",
    "from sklearn.model_selection import cross_val_score\n",
    "#sns.pairplot(data=df) RM and Lstat look important\n",
    "\n",
    "\n",
    "LinearRegressor=LinearRegression()\n",
    "LinearRegressor.fit(X,y)\n",
    "\n",
    "mse=cross_val_score(LinearRegressor,X,y,cv=5,scoring='neg_mean_squared_error')\n",
    "print(mse)\n",
    "print(\"Mean calculated using method 1 is {}\".format(np.mean(mse)))\n",
    "\n",
    "y_pred=LinearRegressor.predict(X)\n",
    "print(\"Mean Calculated using method 2 is {}\".format(((y_pred-y)**2).mean()))\n",
    "\n"
   ]
  },
  {
   "cell_type": "markdown",
   "metadata": {},
   "source": [
    "### Ridge and Lasso regression implementation"
   ]
  },
  {
   "cell_type": "code",
   "execution_count": 3,
   "metadata": {},
   "outputs": [
    {
     "name": "stdout",
     "output_type": "stream",
     "text": [
      "{'alpha': 150.20000000000002}\n",
      "-29.753615313588604\n",
      "24.292860642591133\n"
     ]
    }
   ],
   "source": [
    "from sklearn.linear_model import Ridge\n",
    "from sklearn.model_selection import GridSearchCV\n",
    "ridge=Ridge()\n",
    "parameters={'alpha':.1*np.arange(2000)}\n",
    "RidgeRegressor=GridSearchCV(ridge,parameters,cv=5,scoring='neg_mean_squared_error' )\n",
    "RidgeRegressor.fit(X,y)\n",
    "print(RidgeRegressor.best_params_)\n",
    "print(RidgeRegressor.best_score_)\n",
    "y_pred=RidgeRegressor.predict(X)\n",
    "print(((y_pred-y)**2).mean())\n"
   ]
  },
  {
   "cell_type": "markdown",
   "metadata": {},
   "source": [
    "#### Lasso implementation"
   ]
  },
  {
   "cell_type": "code",
   "execution_count": 4,
   "metadata": {},
   "outputs": [
    {
     "name": "stderr",
     "output_type": "stream",
     "text": [
      "/Users/apple/anaconda3/lib/python3.7/site-packages/sklearn/model_selection/_validation.py:531: UserWarning: With alpha=0, this algorithm does not converge well. You are advised to use the LinearRegression estimator\n",
      "  estimator.fit(X_train, y_train, **fit_params)\n",
      "/Users/apple/anaconda3/lib/python3.7/site-packages/sklearn/linear_model/_coordinate_descent.py:531: UserWarning: Coordinate descent with no regularization may lead to unexpected results and is discouraged.\n",
      "  positive)\n",
      "/Users/apple/anaconda3/lib/python3.7/site-packages/sklearn/linear_model/_coordinate_descent.py:531: ConvergenceWarning: Objective did not converge. You might want to increase the number of iterations. Duality gap: 4967.024500395999, tolerance: 3.9191485420792076\n",
      "  positive)\n",
      "/Users/apple/anaconda3/lib/python3.7/site-packages/sklearn/model_selection/_validation.py:531: UserWarning: With alpha=0, this algorithm does not converge well. You are advised to use the LinearRegression estimator\n",
      "  estimator.fit(X_train, y_train, **fit_params)\n",
      "/Users/apple/anaconda3/lib/python3.7/site-packages/sklearn/linear_model/_coordinate_descent.py:531: UserWarning: Coordinate descent with no regularization may lead to unexpected results and is discouraged.\n",
      "  positive)\n",
      "/Users/apple/anaconda3/lib/python3.7/site-packages/sklearn/linear_model/_coordinate_descent.py:531: ConvergenceWarning: Objective did not converge. You might want to increase the number of iterations. Duality gap: 4503.78669191058, tolerance: 3.3071316790123455\n",
      "  positive)\n",
      "/Users/apple/anaconda3/lib/python3.7/site-packages/sklearn/model_selection/_validation.py:531: UserWarning: With alpha=0, this algorithm does not converge well. You are advised to use the LinearRegression estimator\n",
      "  estimator.fit(X_train, y_train, **fit_params)\n",
      "/Users/apple/anaconda3/lib/python3.7/site-packages/sklearn/linear_model/_coordinate_descent.py:531: UserWarning: Coordinate descent with no regularization may lead to unexpected results and is discouraged.\n",
      "  positive)\n",
      "/Users/apple/anaconda3/lib/python3.7/site-packages/sklearn/linear_model/_coordinate_descent.py:531: ConvergenceWarning: Objective did not converge. You might want to increase the number of iterations. Duality gap: 4291.079974925844, tolerance: 2.813643886419753\n",
      "  positive)\n",
      "/Users/apple/anaconda3/lib/python3.7/site-packages/sklearn/model_selection/_validation.py:531: UserWarning: With alpha=0, this algorithm does not converge well. You are advised to use the LinearRegression estimator\n",
      "  estimator.fit(X_train, y_train, **fit_params)\n",
      "/Users/apple/anaconda3/lib/python3.7/site-packages/sklearn/linear_model/_coordinate_descent.py:531: UserWarning: Coordinate descent with no regularization may lead to unexpected results and is discouraged.\n",
      "  positive)\n",
      "/Users/apple/anaconda3/lib/python3.7/site-packages/sklearn/linear_model/_coordinate_descent.py:531: ConvergenceWarning: Objective did not converge. You might want to increase the number of iterations. Duality gap: 2615.806563370839, tolerance: 3.3071762123456794\n",
      "  positive)\n",
      "/Users/apple/anaconda3/lib/python3.7/site-packages/sklearn/model_selection/_validation.py:531: UserWarning: With alpha=0, this algorithm does not converge well. You are advised to use the LinearRegression estimator\n",
      "  estimator.fit(X_train, y_train, **fit_params)\n",
      "/Users/apple/anaconda3/lib/python3.7/site-packages/sklearn/linear_model/_coordinate_descent.py:531: UserWarning: Coordinate descent with no regularization may lead to unexpected results and is discouraged.\n",
      "  positive)\n",
      "/Users/apple/anaconda3/lib/python3.7/site-packages/sklearn/linear_model/_coordinate_descent.py:531: ConvergenceWarning: Objective did not converge. You might want to increase the number of iterations. Duality gap: 4604.280842056452, tolerance: 3.4809104444444445\n",
      "  positive)\n"
     ]
    },
    {
     "name": "stdout",
     "output_type": "stream",
     "text": [
      "{'alpha': 0.30000000000000004}\n",
      "-34.45504243875091\n",
      "23.58386889714523\n"
     ]
    }
   ],
   "source": [
    "from sklearn.linear_model import Lasso\n",
    "from sklearn.model_selection import GridSearchCV\n",
    "lasso=Lasso()\n",
    "parameters={'alpha':.1*np.arange(2000)}\n",
    "LassoRegressor=GridSearchCV(lasso,parameters,cv=5,scoring='neg_mean_squared_error' )\n",
    "LassoRegressor.fit(X,y)\n",
    "print(LassoRegressor.best_params_)\n",
    "print(LassoRegressor.best_score_)\n",
    "y_pred=LassoRegressor.predict(X)\n",
    "print(((y_pred-y)**2).mean())"
   ]
  },
  {
   "cell_type": "markdown",
   "metadata": {},
   "source": [
    "### Multiple Linear regression"
   ]
  },
  {
   "cell_type": "code",
   "execution_count": 5,
   "metadata": {},
   "outputs": [
    {
     "name": "stdout",
     "output_type": "stream",
     "text": [
      "42346.06536079342\n",
      "0.9355139722149947\n"
     ]
    }
   ],
   "source": [
    "df=pd.read_csv('50_Startups.csv')\n",
    "from sklearn.model_selection import train_test_split\n",
    "from sklearn.linear_model import LinearRegression\n",
    "from sklearn.preprocessing import LabelEncoder\n",
    "\n",
    "\n",
    "labelEncoder=LabelEncoder()\n",
    "df['State']=labelEncoder.fit_transform(df['State'])\n",
    "# print(df.head())\n",
    "\n",
    "\n",
    "X=df.iloc[:,:-1]\n",
    "y=df.iloc[:,-1]\n",
    "\n",
    "\n",
    "\n",
    "X_train,X_test,y_train, y_test=train_test_split(X,y,test_size=.3, random_state=0)\n",
    "LinearRegressor=LinearRegression()\n",
    "# print(X_train.shape)\n",
    "# print(y_train.shape)\n",
    "LinearRegressor.fit(X_train,y_train)\n",
    "y_pred=(LinearRegressor.predict(X_test))\n",
    "\n",
    "df1=pd.DataFrame(X_test.copy())\n",
    "df1['Predicted profit']=y_pred\n",
    "df1['Actual Profit']=y_test\n",
    "df1['Difference(%)']=((y_pred-y_test)/y_test)*100\n",
    "df1.to_csv('predicted_values.csv')\n",
    "# df1.head(50)\n",
    "\n",
    "pd.DataFrame(LinearRegressor.coef_).to_csv('Coef.csv')\n",
    "print(LinearRegressor.intercept_)\n",
    "print(LinearRegressor.score(X_test,y_test))\n",
    "\n",
    "# plt.scatter(x=X_test['R&D Spend'],y=y_pred)\n",
    "# plt.scatter(x=X_test['R&D Spend'],y=y_test)\n",
    "# plt.xlabel('R&D spend')\n",
    "# plt.ylabel('Profit')\n"
   ]
  },
  {
   "cell_type": "markdown",
   "metadata": {},
   "source": [
    "### Model performance : Classification\n",
    "\n",
    "#### Confusion matrix\n",
    "\n",
    "- Columns represent predicted and have Yes and No\n",
    "- Rows represent actuala and have Yes and No\n",
    "\n",
    "- 1: True Positive\n",
    "- 2: False Positive (Type 1 error)\n",
    "- 3: False Negative (Type 2 error)\n",
    "- 4: True Negative\n",
    "\n",
    "\n",
    "Metrics\n",
    "\n",
    "- Accuracy: Right/Total: (1+4)/(1+2+3+4)\n",
    "- Recall or True Positive Rate (TPR)  : 1/(1+3)\n",
    "- Precision : 1/(1+2) \n",
    "- F1 score : 2*Precision*Recall/(Precision+Recall)\n",
    "- False Positive Rate (FPR) : 2/(2+4)\n",
    "- AUC (Area under curve) : Area under a curve drawn for all threshold values with FPR on X axis and TPR on y axis. The curve is called ROC curve. \n",
    "\n",
    "- AUC should be at least 50% otherwise it is a dumb model\n",
    "- AUC curve tells us what should be the threshhold value. It depends on whether we want to focus on maximising TPR or FNR. \n",
    "\n",
    "\n"
   ]
  },
  {
   "cell_type": "code",
   "execution_count": 6,
   "metadata": {},
   "outputs": [
    {
     "name": "stdout",
     "output_type": "stream",
     "text": [
      "[[2 1 0]\n",
      " [0 2 2]\n",
      " [1 0 1]]\n",
      "              precision    recall  f1-score   support\n",
      "\n",
      "           C       0.67      0.67      0.67         3\n",
      "           D       0.50      0.67      0.57         3\n",
      "           H       0.50      0.33      0.40         3\n",
      "\n",
      "    accuracy                           0.56         9\n",
      "   macro avg       0.56      0.56      0.55         9\n",
      "weighted avg       0.56      0.56      0.55         9\n",
      "\n"
     ]
    }
   ],
   "source": [
    "from sklearn import metrics\n",
    "\n",
    "y_actual=['C','C','C','D','D','D','H','H','H']\n",
    "y_pred=['C','C','H','D','D','C','H','D','D']\n",
    "\n",
    "print(metrics.confusion_matrix(y_pred,y_actual)) #Order is Cat,Dog,Horse\n",
    "print(metrics.classification_report(y_actual,y_pred))"
   ]
  },
  {
   "cell_type": "markdown",
   "metadata": {},
   "source": [
    "### Logistics regression\n",
    "\n",
    "To classify a value in class 1 or class 2, we again find the best line which has the least cost function. \n",
    "\n",
    "- Cost function is different compared to linear regression\n",
    "- We maximise the cost function which is sum of f(+1(for class 1) and -1(for class 2) * Distance from best fit line)\n",
    "- f is the Sigmoid function here so that cost function of all values stay between 0 and 1 to negate the affect of outliers \n",
    "\n",
    "\n",
    "1. Logistic regression returns a probability. You can use the returned probability \"as is\" (for example, the probability that the user will click on this ad is 0.00023) or convert the returned probability to a binary value (for example, this email is spam).\n",
    "2. A logistic regression model that returns 0.9995 for a particular email message is predicting that it is very likely to be spam. Conversely, another email message with a prediction score of 0.0003 on that same logistic regression model is very likely not spam. However, what about an email message with a prediction score of 0.6? In order to map a logistic regression value to a binary category, you must define a classification threshold (also called the decision threshold). A value above that threshold indicates \"spam\"; a value below indicates \"not spam.\" It is tempting to assume that the classification threshold should always be 0.5, but thresholds are problem-dependent, and are therefore values that you must tune.\n",
    "3. We can use linear regression for classification problems but the results will be average  if there is an outlier, since the best fit line can be shifted which can cause a very bad result.   \n",
    "4. If there is too much overlapping on points in different classes, it's better not to use logistic regression because losgistic regression uses sigmoid function which classifies a  label as 1 or 0 abruptly (linear separation). If there's overlap, we would need some logic to classify overlapping points. So, for those purposes, other algos like decision trees,random forest, xg boost, svm, knn, aadboost etc.That's why linear classification problems are solved by Logistic regression while non linear classification problems are solved by non linear classification algorithms\n",
    "5. For multiclass lassification, it basically applies logistic regression multiple times assuming 2 classes at a time (combines all but one class into 1) and forms multiple models (equal to the number of classes). The one that gives the highest probability for a given class is the winner. "
   ]
  },
  {
   "cell_type": "code",
   "execution_count": 7,
   "metadata": {},
   "outputs": [
    {
     "name": "stdout",
     "output_type": "stream",
     "text": [
      "0.9777777777777777\n",
      "Precision is 0.9722222222222222\n",
      "Recall is 0.9814814814814815\n",
      "Accuracy is 0.9777777777777777\n"
     ]
    },
    {
     "name": "stderr",
     "output_type": "stream",
     "text": [
      "/Users/apple/anaconda3/lib/python3.7/site-packages/sklearn/linear_model/_logistic.py:764: ConvergenceWarning: lbfgs failed to converge (status=1):\n",
      "STOP: TOTAL NO. of ITERATIONS REACHED LIMIT.\n",
      "\n",
      "Increase the number of iterations (max_iter) or scale the data as shown in:\n",
      "    https://scikit-learn.org/stable/modules/preprocessing.html\n",
      "Please also refer to the documentation for alternative solver options:\n",
      "    https://scikit-learn.org/stable/modules/linear_model.html#logistic-regression\n",
      "  extra_warning_msg=_LOGISTIC_SOLVER_CONVERGENCE_MSG)\n"
     ]
    }
   ],
   "source": [
    "from sklearn import datasets\n",
    "from sklearn.linear_model import LogisticRegression\n",
    "import sklearn.metrics\n",
    "\n",
    "iris = datasets.load_iris()\n",
    "df=pd.DataFrame(iris.data,columns=['c1','c2','c3','c4'])\n",
    "df['Flower']=iris.target\n",
    "# print(df.head())\n",
    "X=df.iloc[:,:-1]\n",
    "y=df.iloc[:,-1]\n",
    "\n",
    "\n",
    "X_train,X_test,y_train,y_test=train_test_split(X,y,test_size=.3,random_state=0)\n",
    "logisticRegression=LogisticRegression()\n",
    "logisticRegression.fit(X_train,y_train)\n",
    "y_pred=logisticRegression.predict(X_test)\n",
    "\n",
    "print(logisticRegression.score(X_test,y_test))\n",
    "\n",
    "print(\"Precision is {}\".format(sklearn.metrics.precision_score(y_test, y_pred, average = \"macro\")))\n",
    "print(\"Recall is {}\".format(sklearn.metrics.recall_score(y_test, y_pred, average = \"macro\")))\n",
    "print(\"Accuracy is {}\".format(sklearn.metrics.accuracy_score(y_test, y_pred)))\n",
    "# "
   ]
  },
  {
   "cell_type": "markdown",
   "metadata": {},
   "source": [
    "### Decision Trees"
   ]
  },
  {
   "cell_type": "markdown",
   "metadata": {},
   "source": [
    "1. Efficiency: Initial nodes (features) in the tree is selected in such a manner that the nodes are pure (Example, For a binary classification, child nodes select a feature that preferably splits the data into a single class (so that depth is low and the tree is less complex). Pureness can be calculated using either 'Entropy/Information gain' (lower entropy is better) or 'Gini' methodology (goes as a config in the algorithm). \n",
    "\n",
    "2. Applied for both regression and classification. Classification : Creates a decision tree and selects questions (nodes) in such a way that leaf nodes contain one of the classes. The topmost (parent root) is the feature that has the highest correlation with the label. Regression : Creates a decision tree by grouping instances which are similar and whose targets are close to each other. Predicted value is the avg of all instances that fall under that leaf node.\n",
    "\n",
    "3. (+) : Can handle non linear Datasets (unlike logistic regression), can handle numerical categorical features without one hot encoding. \n",
    "\n",
    "4. (-) Can grow deep and quickly overfit. Possible solution is to limit the depth of the tree but then it can underfit. Can be sometimes inaccurate and this led to Random forests. \n",
    "\n",
    "5. Tree-based algorithms like XG Boost etc can handle categorical values if they are numeric, so no one-hot encoding required. So, for example, if one of the features is ‘day of week’, tree based argos can simply be used after converting ‘Mon’ to 1, ‘Tue’ to 2 and so on. Some algorithms like Linear regression doesn’t handle like XG Boost, so One hot encoding is required\n",
    "\n",
    "6. Hyperparameters : max_depth (more depth means more complex model and can lead to overfitting, while less depth can cause underfitting)\n",
    "\n",
    "7. Hyperparametrs: min_samples_split/min_samples_leaf (what are the min number of samples available for splitting in each internal node or leaf node), default is 2, and if you make it 50, then a node, once it has 45 samples remaining, will not go any further (helps limit complexity of the model)\n",
    "\n",
    "8. Criterion: function used for splitting (Entropy or Gini)\n",
    "\n",
    "9. Hyperparameters: max_features: How many features to select when deciding which one should be the first node and subsequent nodes.  \n",
    "\n",
    "10. Decision trees don't require scaling of parameters. Because scaling has no impact on accuracy of decision trees. \n"
   ]
  },
  {
   "cell_type": "code",
   "execution_count": 8,
   "metadata": {},
   "outputs": [
    {
     "name": "stdout",
     "output_type": "stream",
     "text": [
      "0.9777777777777777\n"
     ]
    }
   ],
   "source": [
    "from sklearn.tree import DecisionTreeClassifier\n",
    "\n",
    "decisionTreeClassifier=DecisionTreeClassifier()\n",
    "decisionTreeClassifier.fit(X_train,y_train)\n",
    "\n",
    "print(decisionTreeClassifier.score(X_test,y_test))\n"
   ]
  },
  {
   "cell_type": "markdown",
   "metadata": {},
   "source": [
    "### K-Nearest neighbours\n",
    "\n",
    "1. Find which class the nearest k values lie in and decide\n",
    "2. Does not work well when the dataset is inbalanced (THINK WHY)\n",
    "3. Does not work well if you take outliers into account (THINK WHY)\n",
    "4. Works well when the data is not linear (unlike logistic regression)\n"
   ]
  },
  {
   "cell_type": "code",
   "execution_count": 9,
   "metadata": {},
   "outputs": [
    {
     "data": {
      "text/html": [
       "<div>\n",
       "<style scoped>\n",
       "    .dataframe tbody tr th:only-of-type {\n",
       "        vertical-align: middle;\n",
       "    }\n",
       "\n",
       "    .dataframe tbody tr th {\n",
       "        vertical-align: top;\n",
       "    }\n",
       "\n",
       "    .dataframe thead th {\n",
       "        text-align: right;\n",
       "    }\n",
       "</style>\n",
       "<table border=\"1\" class=\"dataframe\">\n",
       "  <thead>\n",
       "    <tr style=\"text-align: right;\">\n",
       "      <th></th>\n",
       "      <th>WTT</th>\n",
       "      <th>PTI</th>\n",
       "      <th>EQW</th>\n",
       "      <th>SBI</th>\n",
       "      <th>LQE</th>\n",
       "      <th>QWG</th>\n",
       "      <th>FDJ</th>\n",
       "      <th>PJF</th>\n",
       "      <th>HQE</th>\n",
       "      <th>NXJ</th>\n",
       "      <th>TARGET CLASS</th>\n",
       "    </tr>\n",
       "  </thead>\n",
       "  <tbody>\n",
       "    <tr>\n",
       "      <th>0</th>\n",
       "      <td>0.913917</td>\n",
       "      <td>1.162073</td>\n",
       "      <td>0.567946</td>\n",
       "      <td>0.755464</td>\n",
       "      <td>0.780862</td>\n",
       "      <td>0.352608</td>\n",
       "      <td>0.759697</td>\n",
       "      <td>0.643798</td>\n",
       "      <td>0.879422</td>\n",
       "      <td>1.231409</td>\n",
       "      <td>1</td>\n",
       "    </tr>\n",
       "    <tr>\n",
       "      <th>1</th>\n",
       "      <td>0.635632</td>\n",
       "      <td>1.003722</td>\n",
       "      <td>0.535342</td>\n",
       "      <td>0.825645</td>\n",
       "      <td>0.924109</td>\n",
       "      <td>0.648450</td>\n",
       "      <td>0.675334</td>\n",
       "      <td>1.013546</td>\n",
       "      <td>0.621552</td>\n",
       "      <td>1.492702</td>\n",
       "      <td>0</td>\n",
       "    </tr>\n",
       "    <tr>\n",
       "      <th>2</th>\n",
       "      <td>0.721360</td>\n",
       "      <td>1.201493</td>\n",
       "      <td>0.921990</td>\n",
       "      <td>0.855595</td>\n",
       "      <td>1.526629</td>\n",
       "      <td>0.720781</td>\n",
       "      <td>1.626351</td>\n",
       "      <td>1.154483</td>\n",
       "      <td>0.957877</td>\n",
       "      <td>1.285597</td>\n",
       "      <td>0</td>\n",
       "    </tr>\n",
       "    <tr>\n",
       "      <th>3</th>\n",
       "      <td>1.234204</td>\n",
       "      <td>1.386726</td>\n",
       "      <td>0.653046</td>\n",
       "      <td>0.825624</td>\n",
       "      <td>1.142504</td>\n",
       "      <td>0.875128</td>\n",
       "      <td>1.409708</td>\n",
       "      <td>1.380003</td>\n",
       "      <td>1.522692</td>\n",
       "      <td>1.153093</td>\n",
       "      <td>1</td>\n",
       "    </tr>\n",
       "    <tr>\n",
       "      <th>4</th>\n",
       "      <td>1.279491</td>\n",
       "      <td>0.949750</td>\n",
       "      <td>0.627280</td>\n",
       "      <td>0.668976</td>\n",
       "      <td>1.232537</td>\n",
       "      <td>0.703727</td>\n",
       "      <td>1.115596</td>\n",
       "      <td>0.646691</td>\n",
       "      <td>1.463812</td>\n",
       "      <td>1.419167</td>\n",
       "      <td>1</td>\n",
       "    </tr>\n",
       "  </tbody>\n",
       "</table>\n",
       "</div>"
      ],
      "text/plain": [
       "        WTT       PTI       EQW       SBI       LQE       QWG       FDJ  \\\n",
       "0  0.913917  1.162073  0.567946  0.755464  0.780862  0.352608  0.759697   \n",
       "1  0.635632  1.003722  0.535342  0.825645  0.924109  0.648450  0.675334   \n",
       "2  0.721360  1.201493  0.921990  0.855595  1.526629  0.720781  1.626351   \n",
       "3  1.234204  1.386726  0.653046  0.825624  1.142504  0.875128  1.409708   \n",
       "4  1.279491  0.949750  0.627280  0.668976  1.232537  0.703727  1.115596   \n",
       "\n",
       "        PJF       HQE       NXJ  TARGET CLASS  \n",
       "0  0.643798  0.879422  1.231409             1  \n",
       "1  1.013546  0.621552  1.492702             0  \n",
       "2  1.154483  0.957877  1.285597             0  \n",
       "3  1.380003  1.522692  1.153093             1  \n",
       "4  0.646691  1.463812  1.419167             1  "
      ]
     },
     "execution_count": 9,
     "metadata": {},
     "output_type": "execute_result"
    }
   ],
   "source": [
    "from sklearn.preprocessing import StandardScaler\n",
    "df=pd.read_csv('classified_data.csv',index_col=0)\n",
    "standardScaler=StandardScaler()\n",
    "df_1=df.drop('TARGET CLASS',axis=1)\n",
    "df_1=pd.DataFrame(standardScaler.fit_transform(df_1),columns=df_1.columns)\n",
    "X_train,X_test,y_train, y_test=train_test_split(df_1,df['TARGET CLASS'],test_size=.3, random_state=0)\n",
    "df.head()"
   ]
  },
  {
   "cell_type": "code",
   "execution_count": 10,
   "metadata": {},
   "outputs": [
    {
     "name": "stdout",
     "output_type": "stream",
     "text": [
      "[[129  11]\n",
      " [  8 152]]\n",
      "              precision    recall  f1-score   support\n",
      "\n",
      "           0       0.94      0.92      0.93       140\n",
      "           1       0.93      0.95      0.94       160\n",
      "\n",
      "    accuracy                           0.94       300\n",
      "   macro avg       0.94      0.94      0.94       300\n",
      "weighted avg       0.94      0.94      0.94       300\n",
      "\n",
      "1    160\n",
      "0    140\n",
      "Name: TARGET CLASS, dtype: int64\n"
     ]
    }
   ],
   "source": [
    "from sklearn.neighbors import KNeighborsClassifier\n",
    "knn=KNeighborsClassifier(n_neighbors=7)\n",
    "\n",
    "knn.fit(X_train,y_train)\n",
    "y_pred=knn.predict(X_test)\n",
    "\n",
    "from sklearn import metrics\n",
    "print(metrics.confusion_matrix(y_test,y_pred)) \n",
    "print(metrics.classification_report(y_test,y_pred))\n",
    "\n",
    "print(y_test.value_counts())\n"
   ]
  },
  {
   "cell_type": "code",
   "execution_count": 11,
   "metadata": {},
   "outputs": [],
   "source": [
    "error_rate=[]\n",
    "for i in range(1,40):\n",
    "    knn=KNeighborsClassifier(n_neighbors=i)\n",
    "    knn.fit(X_train,y_train)\n",
    "    y_pred=knn.predict(X_test)\n",
    "    error_rate.append(1-sklearn.metrics.accuracy_score(y_test, y_pred))"
   ]
  },
  {
   "cell_type": "code",
   "execution_count": 12,
   "metadata": {},
   "outputs": [
    {
     "data": {
      "text/plain": [
       "[<matplotlib.lines.Line2D at 0x1a26829f60>]"
      ]
     },
     "execution_count": 12,
     "metadata": {},
     "output_type": "execute_result"
    },
    {
     "data": {
      "image/png": "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\n",
      "text/plain": [
       "<Figure size 432x288 with 1 Axes>"
      ]
     },
     "metadata": {
      "needs_background": "light"
     },
     "output_type": "display_data"
    }
   ],
   "source": [
    "plt.plot(range(1,40),error_rate,marker='o')"
   ]
  },
  {
   "cell_type": "markdown",
   "metadata": {},
   "source": [
    "### Ensemble algorithms\n",
    "\n",
    "1. Ensemble means to combine multiple models\n",
    "\n",
    "#### Bagging and Boosting\n",
    "1. Bagging: Divides rows and columns into groups, with some instances (rows) and features (columns) in each group of data. Different models (decision trees in case of Random Forest and XGBoost) produce different predictions for each of these groups (different train data and the same test data). The average or highest frequency is taken when predicting new values. This helps solve the overfitting problem of decision trees since the tree no longer depends on all columns and all instances. \n",
    "2. Boosting: Initially, all rows(instances) are given equal weights. Instances of Incorrect prediction by the first sub model are given a higher weight and passed on the 2nd model. "
   ]
  },
  {
   "cell_type": "markdown",
   "metadata": {},
   "source": [
    "### Random forest\n",
    "\n",
    "1. Ensemble algorithm (Bagging method) where models that are used are decision trees. \n",
    "2. If we want to predict regression problems, then we use mean/median of all values obtained from different decision trees. \n",
    "3. Hyperparameter include how many models do you need"
   ]
  },
  {
   "cell_type": "markdown",
   "metadata": {},
   "source": [
    "### Handling imbalanced datasets"
   ]
  },
  {
   "cell_type": "markdown",
   "metadata": {},
   "source": [
    "Let's say class 1 has 1mn datapoints and class 2 has 1k data points\n",
    "\n",
    "Option 1: Undersampling - Pick 1k random datapoints from 1 mn for class 1\n",
    "Option 2: Oversampling - Increase 1k datapoints to 1mn for class 2 \n",
    "\n",
    "Library used for undersampling: from imblearn.under_sampling import NearMiss\n",
    "Library used for oversampling\n",
    "\n",
    "- from imblearn.combine import SMOTETomek\n",
    "- from imblearn.over_sampling import RandomOverSampler\n",
    "\n",
    "\n",
    "Oversampling is better than undersampling because we are not losing any information here, unlike undersampling"
   ]
  },
  {
   "cell_type": "markdown",
   "metadata": {},
   "source": [
    "### XGBoost\n",
    "\n",
    "Hyperparameters of XGBoost\n",
    "\n",
    "- N_estimators : The number of decision trees to be included in the analysis\n",
    "- Max_depth : Depth of one tree in XGBoost, max_depth (more depth means more complex model and can lead to overfitting, while less depth can cause underfitting), Range 2-30\n",
    "- min_samples_split/min_samples_leaf (what are the min number of samples available for splitting in each internal node or leaf node), default is 2, and if you make it - then a node, once it has 45 samples remaining, will not go any further (helps limit complexity of the model)\n",
    "- Max_features: How many features to select when deciding which one should be the first node and subsequent nodes\n",
    "- Subsample (% of row instances to be used), Col sample by tree, Col sample by level (number of columns to be used), decreasing it reduces overfitting \n",
    "- Learning rate: \n"
   ]
  },
  {
   "cell_type": "code",
   "execution_count": 13,
   "metadata": {},
   "outputs": [
    {
     "name": "stdout",
     "output_type": "stream",
     "text": [
      "Index(['RowNumber', 'CustomerId', 'Surname', 'CreditScore', 'Geography',\n",
      "       'Gender', 'Age', 'Tenure', 'Balance', 'NumOfProducts', 'HasCrCard',\n",
      "       'IsActiveMember', 'EstimatedSalary', 'Exited'],\n",
      "      dtype='object')\n",
      "Index(['CreditScore', 'Geography', 'Gender', 'Age', 'Tenure', 'Balance',\n",
      "       'NumOfProducts', 'HasCrCard', 'IsActiveMember', 'EstimatedSalary'],\n",
      "      dtype='object')\n",
      "['Geography', 'Gender']\n"
     ]
    },
    {
     "data": {
      "text/html": [
       "<div>\n",
       "<style scoped>\n",
       "    .dataframe tbody tr th:only-of-type {\n",
       "        vertical-align: middle;\n",
       "    }\n",
       "\n",
       "    .dataframe tbody tr th {\n",
       "        vertical-align: top;\n",
       "    }\n",
       "\n",
       "    .dataframe thead th {\n",
       "        text-align: right;\n",
       "    }\n",
       "</style>\n",
       "<table border=\"1\" class=\"dataframe\">\n",
       "  <thead>\n",
       "    <tr style=\"text-align: right;\">\n",
       "      <th></th>\n",
       "      <th>CreditScore</th>\n",
       "      <th>Age</th>\n",
       "      <th>Tenure</th>\n",
       "      <th>Balance</th>\n",
       "      <th>NumOfProducts</th>\n",
       "      <th>HasCrCard</th>\n",
       "      <th>IsActiveMember</th>\n",
       "      <th>EstimatedSalary</th>\n",
       "      <th>Male</th>\n",
       "      <th>Germany</th>\n",
       "      <th>Spain</th>\n",
       "    </tr>\n",
       "  </thead>\n",
       "  <tbody>\n",
       "    <tr>\n",
       "      <th>0</th>\n",
       "      <td>619</td>\n",
       "      <td>42</td>\n",
       "      <td>2</td>\n",
       "      <td>0.00</td>\n",
       "      <td>1</td>\n",
       "      <td>1</td>\n",
       "      <td>1</td>\n",
       "      <td>101348.88</td>\n",
       "      <td>0</td>\n",
       "      <td>0</td>\n",
       "      <td>0</td>\n",
       "    </tr>\n",
       "    <tr>\n",
       "      <th>1</th>\n",
       "      <td>608</td>\n",
       "      <td>41</td>\n",
       "      <td>1</td>\n",
       "      <td>83807.86</td>\n",
       "      <td>1</td>\n",
       "      <td>0</td>\n",
       "      <td>1</td>\n",
       "      <td>112542.58</td>\n",
       "      <td>0</td>\n",
       "      <td>0</td>\n",
       "      <td>1</td>\n",
       "    </tr>\n",
       "    <tr>\n",
       "      <th>2</th>\n",
       "      <td>502</td>\n",
       "      <td>42</td>\n",
       "      <td>8</td>\n",
       "      <td>159660.80</td>\n",
       "      <td>3</td>\n",
       "      <td>1</td>\n",
       "      <td>0</td>\n",
       "      <td>113931.57</td>\n",
       "      <td>0</td>\n",
       "      <td>0</td>\n",
       "      <td>0</td>\n",
       "    </tr>\n",
       "    <tr>\n",
       "      <th>3</th>\n",
       "      <td>699</td>\n",
       "      <td>39</td>\n",
       "      <td>1</td>\n",
       "      <td>0.00</td>\n",
       "      <td>2</td>\n",
       "      <td>0</td>\n",
       "      <td>0</td>\n",
       "      <td>93826.63</td>\n",
       "      <td>0</td>\n",
       "      <td>0</td>\n",
       "      <td>0</td>\n",
       "    </tr>\n",
       "    <tr>\n",
       "      <th>4</th>\n",
       "      <td>850</td>\n",
       "      <td>43</td>\n",
       "      <td>2</td>\n",
       "      <td>125510.82</td>\n",
       "      <td>1</td>\n",
       "      <td>1</td>\n",
       "      <td>1</td>\n",
       "      <td>79084.10</td>\n",
       "      <td>0</td>\n",
       "      <td>0</td>\n",
       "      <td>1</td>\n",
       "    </tr>\n",
       "  </tbody>\n",
       "</table>\n",
       "</div>"
      ],
      "text/plain": [
       "   CreditScore  Age  Tenure    Balance  NumOfProducts  HasCrCard  \\\n",
       "0          619   42       2       0.00              1          1   \n",
       "1          608   41       1   83807.86              1          0   \n",
       "2          502   42       8  159660.80              3          1   \n",
       "3          699   39       1       0.00              2          0   \n",
       "4          850   43       2  125510.82              1          1   \n",
       "\n",
       "   IsActiveMember  EstimatedSalary  Male  Germany  Spain  \n",
       "0               1        101348.88     0        0      0  \n",
       "1               1        112542.58     0        0      1  \n",
       "2               0        113931.57     0        0      0  \n",
       "3               0         93826.63     0        0      0  \n",
       "4               1         79084.10     0        0      1  "
      ]
     },
     "execution_count": 13,
     "metadata": {},
     "output_type": "execute_result"
    }
   ],
   "source": [
    "import pandas as pd\n",
    "import numpy as np\n",
    "df=pd.read_csv('Churn_Modelling.csv')\n",
    "X=df.iloc[:,3:13]\n",
    "y=df.iloc[:,13]\n",
    "print(df.columns)\n",
    "print(X.columns)\n",
    "df.head()\n",
    "\n",
    "categorical_features = [feature for feature in X.columns if X[feature].dtype=='O']\n",
    "print(categorical_features)\n",
    "Geography=pd.get_dummies(X['Geography'],drop_first=True)\n",
    "Gender=pd.get_dummies(X['Gender'],drop_first=True)\n",
    "X=pd.concat([X,Gender,Geography],axis=1)\n",
    "X=X.drop(['Geography','Gender'],axis=1)\n",
    "X.head()"
   ]
  },
  {
   "cell_type": "code",
   "execution_count": 14,
   "metadata": {},
   "outputs": [
    {
     "data": {
      "text/plain": [
       "<matplotlib.axes._subplots.AxesSubplot at 0x112780a20>"
      ]
     },
     "execution_count": 14,
     "metadata": {},
     "output_type": "execute_result"
    },
    {
     "data": {
      "image/png": "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\n",
      "text/plain": [
       "<Figure size 1440x720 with 2 Axes>"
      ]
     },
     "metadata": {
      "needs_background": "light"
     },
     "output_type": "display_data"
    }
   ],
   "source": [
    "plt.figure(figsize=(20,10))\n",
    "sns.heatmap(df.corr(),annot=True,cmap='YlGnBu')"
   ]
  },
  {
   "cell_type": "markdown",
   "metadata": {},
   "source": []
  },
  {
   "cell_type": "code",
   "execution_count": 15,
   "metadata": {},
   "outputs": [
    {
     "name": "stdout",
     "output_type": "stream",
     "text": [
      "{'min_child_weight': 7, 'max_depth': 6, 'learning_rate': 0.15000000000000002, 'gamma': 0.9, 'colsample_bytree': 0.5}\n",
      "Accuracy is 0.8949\n",
      "col_0      0     1\n",
      "Exited            \n",
      "0       7782   181\n",
      "1        870  1167\n",
      "              precision    recall  f1-score   support\n",
      "\n",
      "           0       0.90      0.98      0.94      7963\n",
      "           1       0.87      0.57      0.69      2037\n",
      "\n",
      "    accuracy                           0.89     10000\n",
      "   macro avg       0.88      0.78      0.81     10000\n",
      "weighted avg       0.89      0.89      0.89     10000\n",
      "\n"
     ]
    }
   ],
   "source": [
    "from sklearn.model_selection import RandomizedSearchCV\n",
    "from sklearn.metrics import accuracy_score, classification_report\n",
    "params = {\n",
    "    \"learning_rate\": .05*np.arange(1,10),\n",
    "    \"max_depth\": np.arange(3,15),\n",
    "    \"min_child_weight\": np.arange(3,10),\n",
    "    \"gamma\": .1*np.arange(0,10),\n",
    "    \"colsample_bytree\": .1*np.arange(3,10)\n",
    "}\n",
    "import xgboost\n",
    "classifier = xgboost.XGBClassifier()\n",
    "classifier_1=RandomizedSearchCV(classifier, param_distributions=params)\n",
    "\n",
    "classifier_1.fit(X,y)\n",
    "y_pred=classifier_1.predict(X)\n",
    "\n",
    "print(classifier_1.best_params_)\n",
    "print(\"Accuracy is {}\".format(accuracy_score(y,y_pred)))\n",
    "print(pd.crosstab(y,y_pred))\n",
    "print(classification_report(y,y_pred))\n",
    "\n"
   ]
  },
  {
   "cell_type": "markdown",
   "metadata": {},
   "source": [
    "### Adaboost\n",
    "\n",
    "Step 1 : Create a decision tree by selecting one column (whichever has the lowest entropy or Gini value)\n",
    "\n",
    "Step 2: Calculate total weighted error. Initially all records have equal weights. \n",
    "\n",
    "Step 3: Update the weights and give the rows (instances) that had predicted wrong values a higher weight. \n",
    "\n",
    "Step 4: Next time, instances are picked according to weights. So, chances of wrong records egtting selected are high. \n",
    "\n",
    "\n",
    "Step 5: Repeat this process and take majority value obtained from all the models"
   ]
  },
  {
   "cell_type": "markdown",
   "metadata": {},
   "source": [
    "### Hyperparameter optimisation\n",
    "\n",
    "1. GridSearchCV or RandomisedSearchCV : 2 options for providing multiple hyperparameters to models\n",
    "\n",
    "2. GridSearchCV tests all possible combinations of all parameters, so is better but slow. RandomisedSearchCV uses the best possible combination within a specifed number of iterations (there is a config called n_iter in RandomisedSearchCV). \n",
    "\n",
    "3. Process : Check all hyperparameters of the model, use GridSearchCV and RandomisedSearchCV to tune the hyperparameters. Use RandomisedSearch CV first and then pass output of RandomisedSearchCV (with hyperparameter in vicinity of values around those) to GridSearchCV. \n",
    "\n",
    "4. Automated hyperparameter tuning using Bayesian Optimization. In Bayesian Optimization, we try to minimise the loss function using probability. Bayesian Optimization can be implemented giving 3 three main parameters to the function fmin. First is a space variable (hyperparameters), objective function (loss function) and an optimization algorithm (defines the search algorithm to use to select the best input values to use in each new iteration)\n",
    "\n",
    "\n",
    "### Imbalanced datasets\n",
    "Let's say class 1 has 1mn datapoints and class 2 has 1k data points\n",
    "\n",
    "Option 1: Undersampling - Pick 1k random datapoints from 1 mn for class 1\n",
    "Option 2: Oversampling - Increase 1k datapoints to 1mn for class 2 \n",
    "Option 3: Class_weights for tree based algorithms\n",
    "\n",
    "Library used for undersampling: from imblearn.under_sampling import NearMiss\n",
    "Library used for oversampling\n",
    "\n",
    "- from imblearn.combine import SMOTETomek\n",
    "- from imblearn.over_sampling import RandomOverSampler\n",
    "\n",
    "\n",
    "Oversampling is better than undersampling because we are not losing any information here, unlike undersampling\n",
    "\n",
    "Tree based algorithms work better for imbalanced datasets"
   ]
  },
  {
   "cell_type": "markdown",
   "metadata": {},
   "source": [
    "# Questions\n",
    "\n",
    "1. Why do we require scaling. \n",
    "\n",
    "2. Why don't decision trees require scaling "
   ]
  }
