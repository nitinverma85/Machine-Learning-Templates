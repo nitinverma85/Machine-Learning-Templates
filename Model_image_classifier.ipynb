{
 "cells": [
  {
   "cell_type": "code",
   "execution_count": 417,
   "metadata": {},
   "outputs": [],
   "source": [
    "import numpy as np\n",
    "import pandas as pd\n",
    "from matplotlib import pyplot as plt\n",
    "import cv2\n",
    "import warnings\n",
    "from sklearn.linear_model import LogisticRegression\n",
    "%matplotlib inline\n",
    "warnings.filterwarnings('ignore')\n",
    "pd.set_option('display.max_columns', 500)\n",
    "from sklearn.model_selection import train_test_split\n",
    "import seaborn as sn\n",
    "import pandas as pd \n",
    "\n",
    "import tensorflow as tf\n",
    "from tensorflow import keras\n"
   ]
  },
  {
   "cell_type": "code",
   "execution_count": 418,
   "metadata": {},
   "outputs": [],
   "source": [
    "# We need to store cropped face images in cropped folder\n",
    "# Face detection using Haar cascades is a machine learning based approach where a cascade function is trained with a set of input data\n",
    "# The detection works only on grayscale images\n",
    "# Faces contains a list of coordinates for the rectangular regions where faces were found. \n",
    "face_cascade = cv2.CascadeClassifier('./opencv/haarcascades/haarcascade_frontalface_default.xml')\n",
    "eye_cascade = cv2.CascadeClassifier(\"./opencv/haarcascades/haarcascade_eye.xml\")\n",
    "#save the image(i) in the same directory\n",
    "def get_cropped_image_if_2_eyes(image_path):\n",
    "    img = cv2.imread(image_path)\n",
    "    if(img is not None):\n",
    "        gray = cv2.cvtColor(img, cv2.COLOR_BGR2GRAY)\n",
    "        faces = face_cascade.detectMultiScale(gray, 1.3, 5)\n",
    "        for (x,y,w,h) in faces:\n",
    "            roi_gray = gray[y:y+h, x:x+w]\n",
    "            roi_color = img[y:y+h, x:x+w]\n",
    "            eyes = eye_cascade.detectMultiScale(roi_gray)\n",
    "            if len(eyes) >= 2:\n",
    "                return roi_color   \n",
    "    else:\n",
    "        exit(1)"
   ]
  },
  {
   "cell_type": "code",
   "execution_count": 419,
   "metadata": {},
   "outputs": [
    {
     "data": {
      "text/plain": [
       "['./Data/SW', './Data/MS', './Data/RF']"
      ]
     },
     "execution_count": 419,
     "metadata": {},
     "output_type": "execute_result"
    }
   ],
   "source": [
    "# Get the paths of original images\n",
    "\n",
    "path_to_data = \"./Data/\"\n",
    "path_to_cr_data = \"./Data/cropped/\"\n",
    "\n",
    "import os\n",
    "img_dirs = []\n",
    "for entry in os.scandir(path_to_data):\n",
    "    if entry.is_dir():\n",
    "        if(entry.path!='./Data/.ipynb_checkpoints' and entry.path!='./Data/cropped'):\n",
    "            img_dirs.append(entry.path)\n",
    "        \n",
    "img_dirs"
   ]
  },
  {
   "cell_type": "code",
   "execution_count": 420,
   "metadata": {},
   "outputs": [],
   "source": [
    "# Remove smaller face images folder if it already exists, else make a new one\n",
    "\n",
    "import shutil\n",
    "if os.path.exists(path_to_cr_data):\n",
    "     shutil.rmtree(path_to_cr_data)\n",
    "os.mkdir(path_to_cr_data)"
   ]
  },
  {
   "cell_type": "code",
   "execution_count": 421,
   "metadata": {},
   "outputs": [
    {
     "name": "stdout",
     "output_type": "stream",
     "text": [
      "Generating cropped images in folder:  ./Data/cropped/SW\n",
      "Generating cropped images in folder:  ./Data/cropped/MS\n",
      "Generating cropped images in folder:  ./Data/cropped/RF\n"
     ]
    }
   ],
   "source": [
    "# Store cropped face images in cropped folder\n",
    "\n",
    "cropped_image_dirs = []\n",
    "celebrity_file_names_dict = {}\n",
    "for img_dir in img_dirs:\n",
    "    count = 1\n",
    "    celebrity_name = img_dir.split('/')[-1]\n",
    "    celebrity_file_names_dict[celebrity_name] = []\n",
    "    for entry in os.scandir(img_dir):\n",
    "        roi_color = get_cropped_image_if_2_eyes(entry.path)\n",
    "        if roi_color is not None:\n",
    "            cropped_folder = path_to_cr_data + celebrity_name\n",
    "            if not os.path.exists(cropped_folder):\n",
    "                os.makedirs(cropped_folder)\n",
    "                cropped_image_dirs.append(cropped_folder)\n",
    "                print(\"Generating cropped images in folder: \",cropped_folder)\n",
    "            cropped_file_name = celebrity_name + str(count) + \".png\"\n",
    "            cropped_file_path = cropped_folder + \"/\" + cropped_file_name\n",
    "            cv2.imwrite(cropped_file_path, roi_color)\n",
    "            celebrity_file_names_dict[celebrity_name].append(cropped_file_path)\n",
    "            count += 1"
   ]
  },
  {
   "cell_type": "code",
   "execution_count": 422,
   "metadata": {},
   "outputs": [],
   "source": [
    "# Wavelet transform of images\n",
    "\n",
    "import numpy as np\n",
    "import pywt\n",
    "import cv2    \n",
    "\n",
    "def w2d(img, mode='haar', level=1):\n",
    "    imArray = img\n",
    "    #Datatype conversions\n",
    "    #convert to grayscale\n",
    "    imArray = cv2.cvtColor( imArray,cv2.COLOR_RGB2GRAY )\n",
    "    #convert to float\n",
    "    imArray =  np.float32(imArray)   \n",
    "    imArray /= 255;\n",
    "    # compute coefficients \n",
    "    coeffs=pywt.wavedec2(imArray, mode, level=level)\n",
    "\n",
    "    #Process Coefficients\n",
    "    coeffs_H=list(coeffs)  \n",
    "    coeffs_H[0] *= 0;  \n",
    "\n",
    "    # reconstruction\n",
    "    imArray_H=pywt.waverec2(coeffs_H, mode);\n",
    "    imArray_H *= 255;\n",
    "    imArray_H =  np.uint8(imArray_H)\n",
    "\n",
    "    return imArray_H\n"
   ]
  },
  {
   "cell_type": "code",
   "execution_count": 423,
   "metadata": {},
   "outputs": [],
   "source": [
    "# # Example wavelet transform for MS Dhoni Image\n",
    "\n",
    "# img = cv2.imread('./Data/MSD/MSD.jpg')\n",
    "# plt.imshow(img)\n"
   ]
  },
  {
   "cell_type": "code",
   "execution_count": 424,
   "metadata": {},
   "outputs": [],
   "source": [
    "# roi_color=get_cropped_image_if_2_eyes('./Data/MSD/MSD.jpg')\n",
    "# plt.imshow(roi_color, cmap='gray')\n"
   ]
  },
  {
   "cell_type": "code",
   "execution_count": 425,
   "metadata": {},
   "outputs": [],
   "source": [
    "# cropped_img = np.array(roi_color)\n",
    "# im_har = w2d(cropped_img,'db1',5)\n",
    "# plt.imshow(im_har, cmap='gray')"
   ]
  },
  {
   "cell_type": "code",
   "execution_count": 426,
   "metadata": {},
   "outputs": [],
   "source": [
    "# Making one image containing original cut image and wavelet transformed image and adding it to X\n",
    "# \n",
    "\n",
    "X=[]\n",
    "y=[]\n",
    "classdict={}\n",
    "count=0\n",
    "\n",
    "for celebrity,training_images in celebrity_file_names_dict.items():\n",
    "    classdict[celebrity]=count\n",
    "    count=count+1\n",
    "\n",
    "for celebrity,training_images in celebrity_file_names_dict.items():\n",
    "    for image in training_images:\n",
    "        img=cv2.imread(image)\n",
    "        if img is None:\n",
    "            print('No Image')\n",
    "            continue\n",
    "        scaled_raw_img=cv2.resize(img,(32,32))\n",
    "        im_har = w2d(img,'db1',5)\n",
    "        scaled_img_har=cv2.resize(im_har,(32,32))\n",
    "        combined_img=np.vstack((scaled_raw_img.reshape(32*32*3,1),scaled_img_har.reshape(32*32,1)))\n",
    "        X.append(combined_img)\n",
    "        y.append(classdict[celebrity])\n",
    "X=np.array(X).reshape(len(X),4096).astype(float)\n",
    "y=np.array(y).reshape(len(y),1).astype(float)"
   ]
  },
  {
   "cell_type": "code",
   "execution_count": 427,
   "metadata": {},
   "outputs": [
    {
     "name": "stdout",
     "output_type": "stream",
     "text": [
      "Precision is 0.8903318903318903\n",
      "Recall is 0.9\n",
      "Accuracy is 0.8918918918918919\n",
      "              precision    recall  f1-score   support\n",
      "\n",
      "         0.0       0.93      0.87      0.90        15\n",
      "         1.0       0.91      0.83      0.87        12\n",
      "         2.0       0.83      1.00      0.91        10\n",
      "\n",
      "    accuracy                           0.89        37\n",
      "   macro avg       0.89      0.90      0.89        37\n",
      "weighted avg       0.90      0.89      0.89        37\n",
      "\n"
     ]
    },
    {
     "data": {
      "text/plain": [
       "Text(33.0, 0.5, 'Actual')"
      ]
     },
     "execution_count": 427,
     "metadata": {},
     "output_type": "execute_result"
    },
    {
     "data": {
      "image/png": "[encoded data removed]",
      "text/plain": [
       "<Figure size 432x288 with 2 Axes>"
      ]
     },
     "metadata": {
      "needs_background": "light"
     },
     "output_type": "display_data"
    }
   ],
   "source": [
    "df=pd.DataFrame(X)\n",
    "df['Celebrity']=y\n",
    "\n",
    "X=df.drop('Celebrity',axis='columns')\n",
    "y=df['Celebrity']\n",
    "\n",
    "X_train, X_test, y_train, y_test = train_test_split(X, y, test_size = 0.2, random_state = 5)\n",
    "\n",
    "logisticRegression=LogisticRegression()\n",
    "logisticRegression.fit(X_train,y_train)\n",
    "y_pred=logisticRegression.predict(X_test)\n",
    "print(\"Precision is {}\".format(sklearn.metrics.precision_score(y_test, y_pred, average = \"macro\")))\n",
    "print(\"Recall is {}\".format(sklearn.metrics.recall_score(y_test, y_pred, average = \"macro\")))\n",
    "print(\"Accuracy is {}\".format(sklearn.metrics.accuracy_score(y_test, y_pred)))\n",
    "print(classification_report(y_test,y_pred))\n",
    "sn.heatmap(tf.math.confusion_matrix(labels=y_test, predictions=y_pred),annot=True,fmt='d')\n",
    "plt.xlabel(\"Predicted\")\n",
    "plt.ylabel(\"Actual\")\n",
    "\n"
   ]
  },
  {
   "cell_type": "code",
   "execution_count": 428,
   "metadata": {},
   "outputs": [
    {
     "name": "stdout",
     "output_type": "stream",
     "text": [
      "Accuracy is 0.8918918918918919\n",
      "              precision    recall  f1-score   support\n",
      "\n",
      "         0.0       0.93      0.93      0.93        15\n",
      "         1.0       0.90      0.75      0.82        12\n",
      "         2.0       0.83      1.00      0.91        10\n",
      "\n",
      "    accuracy                           0.89        37\n",
      "   macro avg       0.89      0.89      0.89        37\n",
      "weighted avg       0.90      0.89      0.89        37\n",
      "\n"
     ]
    },
    {
     "data": {
      "text/plain": [
       "Text(33.0, 0.5, 'Actual')"
      ]
     },
     "execution_count": 428,
     "metadata": {},
     "output_type": "execute_result"
    },
    {
     "data": {
      "image/png": "[encoded data removed]",
      "text/plain": [
       "<Figure size 432x288 with 2 Axes>"
      ]
     },
     "metadata": {
      "needs_background": "light"
     },
     "output_type": "display_data"
    }
   ],
   "source": [
    "# Recall for class 1 is how many cases out of total were you able to predict for class 1. \n",
    "# Thinking about cancer, let's say 20 had cancer and you predicted 19 out of them correctly. \n",
    "# Recall is 95%\n",
    "\n",
    "\n",
    "# Precision for class 1 is How many you predicted class 1/How many actually are class 1. \n",
    "# Thinking about cancer, you predicted 100 mights have cancer and 20 of them actually had cancer\n",
    "# Precision is 20% \n",
    "\n",
    "from sklearn.svm import SVC\n",
    "from sklearn.preprocessing import StandardScaler\n",
    "from sklearn.model_selection import train_test_split\n",
    "from sklearn.pipeline import Pipeline\n",
    "from sklearn.metrics import classification_report\n",
    "\n",
    "\n",
    "X_train, X_test, y_train, y_test = train_test_split(X, y, test_size = 0.2, random_state = 5)\n",
    "pipe = Pipeline([('scaler',StandardScaler()),('svc',SVC(kernel='rbf',C=10))])\n",
    "pipe.fit(X_train,y_train)\n",
    "print(\"Accuracy is {}\".format(pipe.score(X_test,y_test)))\n",
    "print(classification_report(y_test,pipe.predict(X_test)))\n",
    "y_pred=pipe.predict(X_test)\n",
    "sn.heatmap(tf.math.confusion_matrix(labels=y_test, predictions=y_pred),annot=True,fmt='d')\n",
    "plt.xlabel(\"Predicted\")\n",
    "plt.ylabel(\"Actual\")"
   ]
  },
  {
   "cell_type": "code",
   "execution_count": 429,
   "metadata": {},
   "outputs": [
    {
     "data": {
      "text/html": [
       "<div>\n",
       "<style scoped>\n",
       "    .dataframe tbody tr th:only-of-type {\n",
       "        vertical-align: middle;\n",
       "    }\n",
       "\n",
       "    .dataframe tbody tr th {\n",
       "        vertical-align: top;\n",
       "    }\n",
       "\n",
       "    .dataframe thead th {\n",
       "        text-align: right;\n",
       "    }\n",
       "</style>\n",
       "<table border=\"1\" class=\"dataframe\">\n",
       "  <thead>\n",
       "    <tr style=\"text-align: right;\">\n",
       "      <th></th>\n",
       "      <th>model</th>\n",
       "      <th>best_score</th>\n",
       "      <th>best_params</th>\n",
       "    </tr>\n",
       "  </thead>\n",
       "  <tbody>\n",
       "    <tr>\n",
       "      <th>0</th>\n",
       "      <td>svm</td>\n",
       "      <td>0.840887</td>\n",
       "      <td>{'svc__C': 1, 'svc__kernel': 'rbf'}</td>\n",
       "    </tr>\n",
       "    <tr>\n",
       "      <th>1</th>\n",
       "      <td>random_forest</td>\n",
       "      <td>0.798768</td>\n",
       "      <td>{'randomforestclassifier__n_estimators': 5}</td>\n",
       "    </tr>\n",
       "    <tr>\n",
       "      <th>2</th>\n",
       "      <td>logistic_regression</td>\n",
       "      <td>0.820197</td>\n",
       "      <td>{'logisticregression__C': 1}</td>\n",
       "    </tr>\n",
       "  </tbody>\n",
       "</table>\n",
       "</div>"
      ],
      "text/plain": [
       "                 model  best_score  \\\n",
       "0                  svm    0.840887   \n",
       "1        random_forest    0.798768   \n",
       "2  logistic_regression    0.820197   \n",
       "\n",
       "                                   best_params  \n",
       "0          {'svc__C': 1, 'svc__kernel': 'rbf'}  \n",
       "1  {'randomforestclassifier__n_estimators': 5}  \n",
       "2                 {'logisticregression__C': 1}  "
      ]
     },
     "execution_count": 429,
     "metadata": {},
     "output_type": "execute_result"
    }
   ],
   "source": [
    "# GridSearchCV can try multiple algorithms and multiple hyperparameters\n",
    "# GrisSearch CV uses part of train set as validation set in order to find the best hyperparameter\n",
    "\n",
    "from sklearn import svm\n",
    "from sklearn.ensemble import RandomForestClassifier\n",
    "from sklearn.linear_model import LogisticRegression\n",
    "from sklearn.pipeline import make_pipeline\n",
    "from sklearn.model_selection import GridSearchCV\n",
    "\n",
    "model_params = {\n",
    "    'svm': {\n",
    "        'model': svm.SVC(gamma='auto',probability=True),\n",
    "        'params' : {\n",
    "            'svc__C': [1,10,100,1000],\n",
    "            'svc__kernel': ['rbf','linear']\n",
    "        }  \n",
    "    },\n",
    "    'random_forest': {\n",
    "        'model': RandomForestClassifier(),\n",
    "        'params' : {\n",
    "            'randomforestclassifier__n_estimators': [1,5,10]\n",
    "        }\n",
    "    },\n",
    "    'logistic_regression' : {\n",
    "        'model': LogisticRegression(solver='liblinear',multi_class='auto'),\n",
    "        'params': {\n",
    "            'logisticregression__C': [1,5,10]\n",
    "        }\n",
    "    }\n",
    "}\n",
    "\n",
    "scores = []\n",
    "best_estimators = {}\n",
    "import pandas as pd\n",
    "for algo, mp in model_params.items():\n",
    "    pipe = make_pipeline(StandardScaler(), mp['model'])\n",
    "    clf =  GridSearchCV(pipe, mp['params'], cv=5, return_train_score=False)\n",
    "    clf.fit(X_train, y_train)\n",
    "    scores.append({\n",
    "        'model': algo,\n",
    "        'best_score': clf.best_score_,\n",
    "        'best_params': clf.best_params_\n",
    "    })\n",
    "    best_estimators[algo] = clf.best_estimator_\n",
    "    \n",
    "df = pd.DataFrame(scores,columns=['model','best_score','best_params'])\n",
    "df"
   ]
  },
  {
   "cell_type": "code",
   "execution_count": 440,
   "metadata": {},
   "outputs": [
    {
     "data": {
      "text/plain": [
       "0.8918918918918919"
      ]
     },
     "execution_count": 440,
     "metadata": {},
     "output_type": "execute_result"
    }
   ],
   "source": [
    "# Just trying svm on test set as well\n",
    "best_clf= best_estimators['svm']\n",
    "best_estimators['svm'].score(X_test,y_test)"
   ]
  },
  {
   "cell_type": "code",
   "execution_count": 441,
   "metadata": {},
   "outputs": [
    {
     "data": {
      "text/plain": [
       "['saved_model.pkl']"
      ]
     },
     "execution_count": 441,
     "metadata": {},
     "output_type": "execute_result"
    }
   ],
   "source": [
    "# Saving the model \n",
    "import joblib\n",
    "joblib.dump(best_clf, 'saved_model.pkl')"
   ]
  },
  {
   "cell_type": "code",
   "execution_count": 443,
   "metadata": {},
   "outputs": [],
   "source": [
    "#Save dictionary\n",
    "import json\n",
    "with open(\"class_dictionary.json\",\"w\") as f:\n",
    "    f.write(json.dumps(classdict))"
   ]
  },
  {
   "cell_type": "code",
   "execution_count": null,
   "metadata": {},
   "outputs": [],
   "source": []
  }
 ],
 "metadata": {
  "kernelspec": {
   "display_name": "Python 3",
   "language": "python",
   "name": "python3"
  },
  "language_info": {
   "codemirror_mode": {
    "name": "ipython",
    "version": 3
   },
   "file_extension": ".py",
   "mimetype": "text/x-python",
   "name": "python",
   "nbconvert_exporter": "python",
   "pygments_lexer": "ipython3",
   "version": "3.8.5"
  }
 },
 "nbformat": 4,
 "nbformat_minor": 4
}
