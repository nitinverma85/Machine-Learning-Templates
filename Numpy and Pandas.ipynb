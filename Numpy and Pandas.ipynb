{
 "cells": [
  {
   "cell_type": "code",
   "execution_count": 49,
   "metadata": {},
   "outputs": [
    {
     "name": "stdout",
     "output_type": "stream",
     "text": [
      "3\n",
      "[[1 2]\n",
      " [3 4]\n",
      " [5 6]]\n",
      "[[0. 0. 0.]\n",
      " [0. 0. 0.]\n",
      " [0. 0. 0.]]\n",
      "[[1. 1. 1.]\n",
      " [1. 1. 1.]\n",
      " [1. 1. 1.]]\n",
      "[[20 20 20 20]\n",
      " [20 20 20 20]\n",
      " [20 20 20 20]]\n",
      "[[0.24532911 0.15377871 0.5869652  0.57505282]\n",
      " [0.62004657 0.78680987 0.93049446 0.69846985]\n",
      " [0.25806297 0.74735028 0.80275177 0.28829557]]\n",
      "[[63 73 33]\n",
      " [20 40 77]]\n",
      "[9 9 7]\n",
      "[[1. 0. 0.]\n",
      " [0. 1. 0.]\n",
      " [0. 0. 1.]]\n",
      "[[ True  True  True]\n",
      " [False False False]]\n",
      "[0 1 2 3 4 5 6 7 8 9]\n",
      "[2 7]\n",
      "[ 0.  5. 10. 15. 20.]\n"
     ]
    }
   ],
   "source": [
    "import numpy as np\n",
    "a=[1,2,3,4,5,6]\n",
    "a=np.array(a)\n",
    "a=a.reshape(3,2)\n",
    "print(a.shape[0])\n",
    "print(a)\n",
    "print(np.zeros((3,3)))\n",
    "print(np.ones((3,3)))\n",
    "print(np.full((3,4),20))\n",
    "print(np.random.rand(3,4))\n",
    "print(np.random.randint(1,100,6).reshape(2,3))\n",
    "print(np.random.randint(5,10,3))\n",
    "print(np.identity((3)))\n",
    "b=[1,2,3]\n",
    "c=[4,5,6]\n",
    "d=np.array([b,c])\n",
    "print(d<4)\n",
    "print(np.arange(10))\n",
    "print(np.arange(2,10,5))\n",
    "print(np.linspace(0,20,5))\n",
    "\n"
   ]
  },
  {
   "cell_type": "code",
   "execution_count": null,
   "metadata": {},
   "outputs": [],
   "source": []
  },
  {
   "cell_type": "code",
   "execution_count": null,
   "metadata": {},
   "outputs": [],
   "source": []
  }
 ],
 "metadata": {
  "kernelspec": {
   "display_name": "Python 3",
   "language": "python",
   "name": "python3"
  },
  "language_info": {
   "codemirror_mode": {
    "name": "ipython",
    "version": 3
   },
   "file_extension": ".py",
   "mimetype": "text/x-python",
   "name": "python",
   "nbconvert_exporter": "python",
   "pygments_lexer": "ipython3",
   "version": "3.8.5"
  }
 },
 "nbformat": 4,
 "nbformat_minor": 2
}
