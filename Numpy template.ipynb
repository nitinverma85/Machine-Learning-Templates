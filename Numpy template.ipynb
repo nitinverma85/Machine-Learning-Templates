{
 "cells": [
  {
   "cell_type": "code",
   "execution_count": 1,
   "metadata": {},
   "outputs": [
    {
     "name": "stdout",
     "output_type": "stream",
     "text": [
      "3\n",
      "[[1 2]\n",
      " [3 4]\n",
      " [5 6]]\n",
      "[[0. 0. 0.]\n",
      " [0. 0. 0.]\n",
      " [0. 0. 0.]]\n",
      "[[1. 1. 1.]\n",
      " [1. 1. 1.]\n",
      " [1. 1. 1.]]\n",
      "[[20 20 20 20]\n",
      " [20 20 20 20]\n",
      " [20 20 20 20]]\n",
      "[[0.29022807 0.30588437 0.01358246 0.7533175 ]\n",
      " [0.29443821 0.30611655 0.43784992 0.66149878]\n",
      " [0.88890333 0.99487626 0.61357005 0.53669252]]\n",
      "[[42 14 66]\n",
      " [82 92 22]]\n",
      "[5 5 7]\n",
      "[[1. 0. 0.]\n",
      " [0. 1. 0.]\n",
      " [0. 0. 1.]]\n",
      "[[ True  True  True]\n",
      " [False False False]]\n",
      "[0 1 2 3 4 5 6 7 8 9]\n",
      "[2 7]\n",
      "[ 0.  5. 10. 15. 20.]\n"
     ]
    }
   ],
   "source": [
    "#Numpy is fast because it is built upon C and C++\n",
    "\n",
    "import numpy as np\n",
    "a=[1,2,3,4,5,6]\n",
    "a=np.array(a)\n",
    "a=a.reshape(3,2)\n",
    "print(a.shape[0])\n",
    "print(a)\n",
    "print(np.zeros((3,3)))\n",
    "print(np.ones((3,3)))\n",
    "print(np.full((3,4),20))\n",
    "print(np.random.rand(3,4))\n",
    "print(np.random.randint(1,100,6).reshape(2,3))\n",
    "print(np.random.randint(5,10,3))\n",
    "print(np.identity((3)))\n",
    "b=[1,2,3]\n",
    "c=[4,5,6]\n",
    "d=np.array([b,c])\n",
    "print(d<4)\n",
    "print(np.arange(10))\n",
    "print(np.arange(2,10,5))\n",
    "print(np.linspace(0,20,5))\n"
   ]
  },
  {
   "cell_type": "code",
   "execution_count": 77,
   "metadata": {},
   "outputs": [
    {
     "name": "stdout",
     "output_type": "stream",
     "text": [
      "MSSubClass       0\n",
      "MSZoning         4\n",
      "LotFrontage    227\n",
      "dtype: int64\n",
      "      MSSubClass MSZoning  LotFrontage\n",
      "Id                                    \n",
      "1461          20       RH         80.0\n",
      "1462          20       RL         81.0\n",
      "1463          60       RL         74.0\n",
      "1464          60       RL         78.0\n",
      "1465         120       RL         43.0\n"
     ]
    }
   ],
   "source": [
    "import pandas as pd\n",
    "\n",
    "a=[1,2,3,4,5]\n",
    "b=[5,6,7,'',9]\n",
    "\n",
    "df=pd.DataFrame(np.array([a,b]),columns=['a','b','c','d','e'],index=['r1','r2'])\n",
    "df=pd.read_csv('./Data/test.csv',index_col='Id',usecols=['Id', 'MSSubClass', 'MSZoning', 'LotFrontage'])\n",
    "# print(df)\n",
    "\n",
    "# print(df.iloc[:,0:2]) #df.iloc returns a dataframe\n",
    "# print(df.loc[['r1','r2'],['b','c']])\n",
    "\n",
    "# print(df.values)\n",
    "# print(df.isnull())\n",
    "print(df.isnull().sum())\n",
    "# df=df[['Id', 'MSSubClass', 'MSZoning', 'LotFrontage']]\n",
    "# print(df.head(1))\n",
    "# print(df['MSZoning'].value_counts())\n",
    "# print(df[df['MSZoning']=='RL'])\n",
    "print(df.head())\n",
    "# df=df.dropna()\n"
   ]
  },
  {
   "cell_type": "code",
   "execution_count": 99,
   "metadata": {},
   "outputs": [
    {
     "name": "stdout",
     "output_type": "stream",
     "text": [
      "Index(['RL', 'RM', 'FV', 'C (all)', 'RH'], dtype='object')\n",
      "          MSSubClass  LotFrontage\n",
      "MSZoning                         \n",
      "C (all)          940        812.0\n",
      "FV              6540       3693.0\n",
      "RH              1050        509.0\n",
      "RL             55020      67327.0\n",
      "RM             20025      11836.0\n"
     ]
    },
    {
     "data": {
      "text/plain": [
       "<BarContainer object of 5 artists>"
      ]
     },
     "execution_count": 99,
     "metadata": {},
     "output_type": "execute_result"
    },
    {
     "data": {
      "image/png": "[encoded data removed]",
      "text/plain": [
       "<Figure size 432x288 with 1 Axes>"
      ]
     },
     "metadata": {
      "needs_background": "light"
     },
     "output_type": "display_data"
    }
   ],
   "source": [
    "import matplotlib.pyplot as plt\n",
    "print(df['MSZoning'].value_counts().index)\n",
    "print(df.groupby('MSZoning').sum())\n",
    "\n",
    "plt.bar(df['MSZoning'].value_counts().index,[1,2,3,4,5])\n",
    "# plt.bar(['a','b','c','d','e'],[1,2,3,4,5])\n",
    "# plt.plot(['a','b','c','d','e'],[1,2,3,4,5])\n"
   ]
  },
  {
   "cell_type": "code",
   "execution_count": null,
   "metadata": {},
   "outputs": [],
   "source": []
  },
  {
   "cell_type": "code",
   "execution_count": null,
   "metadata": {},
   "outputs": [],
   "source": []
  },
  {
   "cell_type": "code",
   "execution_count": null,
   "metadata": {},
   "outputs": [],
   "source": []
  }
 ],
 "metadata": {
  "kernelspec": {
   "display_name": "Python 3",
   "language": "python",
   "name": "python3"
  },
  "language_info": {
   "codemirror_mode": {
    "name": "ipython",
    "version": 3
   },
   "file_extension": ".py",
   "mimetype": "text/x-python",
   "name": "python",
   "nbconvert_exporter": "python",
   "pygments_lexer": "ipython3",
   "version": "3.8.5"
  }
 },
 "nbformat": 4,
 "nbformat_minor": 2
}
