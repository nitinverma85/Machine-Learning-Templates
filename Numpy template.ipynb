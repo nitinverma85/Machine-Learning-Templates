{
 "cells": [
  {
   "cell_type": "code",
   "execution_count": 35,
   "metadata": {},
   "outputs": [
    {
     "name": "stdout",
     "output_type": "stream",
     "text": [
      "<class 'numpy.ndarray'>\n",
      "[1 2 3 4 5]\n",
      "(5,)\n"
     ]
    }
   ],
   "source": [
    "#Numpy is fast because it is built upon C and C++\n",
    "\n",
    "import numpy as np\n",
    "\n",
    "\n",
    "a=[1,2,3,4,5]\n",
    "a=np.array(a)\n",
    "\n",
    "print(type(a))\n",
    "print(a)\n",
    "print(a.shape)\n"
   ]
  },
  {
   "cell_type": "code",
   "execution_count": 55,
   "metadata": {},
   "outputs": [
    {
     "name": "stdout",
     "output_type": "stream",
     "text": [
      "b is  [[1 2 3]\n",
      " [4 5 6]]\n",
      "(2, 3)\n",
      "Number of rows are 2\n",
      "[[0. 0. 0. 0.]\n",
      " [0. 0. 0. 0.]\n",
      " [0. 0. 0. 0.]]\n",
      "[[1. 1. 1. 1.]\n",
      " [1. 1. 1. 1.]\n",
      " [1. 1. 1. 1.]\n",
      " [1. 1. 1. 1.]]\n",
      "[[45 45 45 45 45]\n",
      " [45 45 45 45 45]\n",
      " [45 45 45 45 45]\n",
      " [45 45 45 45 45]]\n",
      "[[34 34 34 34 34]\n",
      " [34 34 34 34 34]\n",
      " [34 34 34 34 34]\n",
      " [34 34 34 34 34]]\n",
      "[[0.76030899 0.85946653 0.00851305 0.86810267]\n",
      " [0.97792317 0.76573265 0.51088617 0.27002916]\n",
      " [0.98188983 0.93704578 0.88146836 0.92907109]]\n",
      "[[0.20818159 0.89181944 0.48108332]\n",
      " [0.18415154 0.33096073 0.25766524]]\n",
      "[[95 52]\n",
      " [21 62]]\n",
      "[[16 23 22]\n",
      " [87 17 13]]\n",
      "[[1. 0. 0. 0.]\n",
      " [0. 1. 0. 0.]\n",
      " [0. 0. 1. 0.]\n",
      " [0. 0. 0. 1.]]\n",
      "a is  [1, 2, 3, 4]\n",
      "Multiplication of a and b is  30\n"
     ]
    }
   ],
   "source": [
    "b=np.array([[1,2,3],[4,5,6]])\n",
    "print(\"b is \",b)\n",
    "print(b.shape)\n",
    "print(\"Number of rows are\",b.ndim)\n",
    "c=np.zeros((3,4))\n",
    "print(c)\n",
    "d=np.ones((4,4))\n",
    "print(d)\n",
    "e=np.full((4,5),45)\n",
    "print(e)\n",
    "f=np.full_like((e),34)\n",
    "print(f)\n",
    "print(np.random.rand(3,4))\n",
    "print(np.random.random_sample(b.shape))\n",
    "print(np.random.randint(1,100,size=(2,2)))\n",
    "print(np.random.randint(1,100,6).reshape(2,3))\n",
    "print(np.identity (4))\n",
    "b=a.copy() # Imp to copy \n",
    "print(\"a is \",b)      \n",
    "print(\"Multiplication of a and b is \",np.matmul(a,b))\n"
   ]
  },
  {
   "cell_type": "code",
   "execution_count": 51,
   "metadata": {},
   "outputs": [
    {
     "name": "stdout",
     "output_type": "stream",
     "text": [
      "[[1 2 3 4]\n",
      " [4 5 6 5]\n",
      " [7 8 9 6]]\n",
      "(3, 4)\n",
      "[[ True  True  True False]\n",
      " [False False False False]\n",
      " [False False False False]]\n",
      "[1 2]\n",
      "[[1 2 3]\n",
      " [4 4 5]\n",
      " [6 5 7]\n",
      " [8 9 6]]\n",
      "[1 4 7]\n",
      "[ 1.   1.5  2.   2.5  3.   3.5  4.   4.5  5.   5.5  6.   6.5  7.   7.5\n",
      "  8.   8.5  9.   9.5 10. ]\n"
     ]
    }
   ],
   "source": [
    "a=[1,2,3,4]\n",
    "b=[4,5,6,5]\n",
    "c=[7,8,9,6]\n",
    "\n",
    "d=np.array([a,b,c])\n",
    "print(d)\n",
    "print(d.shape)\n",
    "\n",
    "print(d<=3)\n",
    "print(d[d<3])\n",
    "\n",
    "d=d.reshape(4,3)\n",
    "print(d)\n",
    "print(np.arange(1,10,3))\n",
    "print(np.linspace(1,10,19))\n",
    "\n"
   ]
  },
  {
   "cell_type": "code",
   "execution_count": null,
   "metadata": {},
   "outputs": [],
   "source": []
  },
  {
   "cell_type": "code",
   "execution_count": null,
   "metadata": {},
   "outputs": [],
   "source": []
  },
  {
   "cell_type": "code",
   "execution_count": null,
   "metadata": {},
   "outputs": [],
   "source": []
  }
 ],
 "metadata": {
  "kernelspec": {
   "display_name": "Python 3",
   "language": "python",
   "name": "python3"
  },
  "language_info": {
   "codemirror_mode": {
    "name": "ipython",
    "version": 3
   },
   "file_extension": ".py",
   "mimetype": "text/x-python",
   "name": "python",
   "nbconvert_exporter": "python",
   "pygments_lexer": "ipython3",
   "version": "3.7.1"
  }
 },
 "nbformat": 4,
 "nbformat_minor": 2
}
