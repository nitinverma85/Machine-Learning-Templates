{
 "cells": [
  {
   "cell_type": "markdown",
   "metadata": {},
   "source": [
    "# Pandas template"
   ]
  },
  {
   "cell_type": "markdown",
   "metadata": {},
   "source": [
    "#### Importing and creating a Dataframe"
   ]
  },
  {
   "cell_type": "code",
   "execution_count": null,
   "metadata": {},
   "outputs": [],
   "source": [
    "import pandas as pd\n",
    "import numpy as np\n",
    "\n",
    "np.arange(5,10)\n",
    "\n",
    "df=pd.DataFrame(np.arange(1,21).reshape(5,4),index=['r1','r2','r3','r4','r5'],columns=['c1','c2','c3','c4'])\n",
    "print(df)"
   ]
  },
  {
   "cell_type": "markdown",
   "metadata": {},
   "source": [
    "#### Getting data back from a Dataframe"
   ]
  },
  {
   "cell_type": "code",
   "execution_count": 7,
   "metadata": {},
   "outputs": [
    {
     "name": "stdout",
     "output_type": "stream",
     "text": [
      "c1    1\n",
      "c2    2\n",
      "Name: r1, dtype: int64\n",
      "<class 'pandas.core.series.Series'>\n",
      "    c1  c2  c3  c4\n",
      "r1   1   2   3   4\n",
      "r2   5   6   7   8\n",
      "r3   9  10  11  12\n",
      "r4  13  14  15  16\n",
      "r5  17  18  19  20\n"
     ]
    },
    {
     "data": {
      "text/html": [
       "<div>\n",
       "<style scoped>\n",
       "    .dataframe tbody tr th:only-of-type {\n",
       "        vertical-align: middle;\n",
       "    }\n",
       "\n",
       "    .dataframe tbody tr th {\n",
       "        vertical-align: top;\n",
       "    }\n",
       "\n",
       "    .dataframe thead th {\n",
       "        text-align: right;\n",
       "    }\n",
       "</style>\n",
       "<table border=\"1\" class=\"dataframe\">\n",
       "  <thead>\n",
       "    <tr style=\"text-align: right;\">\n",
       "      <th></th>\n",
       "      <th>c2</th>\n",
       "      <th>c3</th>\n",
       "    </tr>\n",
       "  </thead>\n",
       "  <tbody>\n",
       "    <tr>\n",
       "      <td>r1</td>\n",
       "      <td>2</td>\n",
       "      <td>3</td>\n",
       "    </tr>\n",
       "    <tr>\n",
       "      <td>r2</td>\n",
       "      <td>6</td>\n",
       "      <td>7</td>\n",
       "    </tr>\n",
       "    <tr>\n",
       "      <td>r3</td>\n",
       "      <td>10</td>\n",
       "      <td>11</td>\n",
       "    </tr>\n",
       "    <tr>\n",
       "      <td>r4</td>\n",
       "      <td>14</td>\n",
       "      <td>15</td>\n",
       "    </tr>\n",
       "    <tr>\n",
       "      <td>r5</td>\n",
       "      <td>18</td>\n",
       "      <td>19</td>\n",
       "    </tr>\n",
       "  </tbody>\n",
       "</table>\n",
       "</div>"
      ],
      "text/plain": [
       "    c2  c3\n",
       "r1   2   3\n",
       "r2   6   7\n",
       "r3  10  11\n",
       "r4  14  15\n",
       "r5  18  19"
      ]
     },
     "execution_count": 7,
     "metadata": {},
     "output_type": "execute_result"
    }
   ],
   "source": [
    "a=(df.loc['r1',['c1','c2']]) #Loc returns dataseries\n",
    "print(a)\n",
    "print(type(a)) #Single row or column is a series\n",
    "print(df.iloc[:,:]) #iloc returns dataframe \n",
    "df['c2'] #Directly type col name\n",
    "df[['c2','c3']] #Directly type col name"
   ]
  },
  {
   "cell_type": "markdown",
   "metadata": {},
   "source": [
    "#### Some more useful functions (df into array, checking nulls, unique values)"
   ]
  },
  {
   "cell_type": "code",
   "execution_count": 9,
   "metadata": {},
   "outputs": [
    {
     "name": "stdout",
     "output_type": "stream",
     "text": [
      "[[ 1  2  3  4]\n",
      " [ 5  6  7  8]\n",
      " [ 9 10 11 12]\n",
      " [13 14 15 16]\n",
      " [17 18 19 20]]\n"
     ]
    },
    {
     "data": {
      "text/plain": [
       "array([ 1,  5,  9, 13, 17])"
      ]
     },
     "execution_count": 9,
     "metadata": {},
     "output_type": "execute_result"
    }
   ],
   "source": [
    "print(df.values) # converts dataframe into an array\n",
    "df.isnull()\n",
    "df.isnull().sum()\n",
    "df['c1'].value_counts()\n",
    "df['c1'].unique()"
   ]
  },
  {
   "cell_type": "markdown",
   "metadata": {},
   "source": [
    "#### Create Dataframe from csv, Filter"
   ]
  },
  {
   "cell_type": "code",
   "execution_count": 58,
   "metadata": {},
   "outputs": [
    {
     "name": "stdout",
     "output_type": "stream",
     "text": [
      "         Gender  Age  Kids\n",
      "User ID                   \n",
      "1        Female   65     1\n",
      "2          Male   42     2\n",
      "3           NaN   21     5\n",
      "4          Male   15     0\n",
      "5        Female   32     0\n"
     ]
    }
   ],
   "source": [
    "df=pd.read_csv('segment.csv')\n",
    "df.head()\n",
    "df.shape\n",
    "df.isnull().sum()\n",
    "#df.info()\n",
    "#df.describe()  # This function skips categorical features\n",
    "df['Married'].value_counts()\n",
    "df[df['Kids']>2]\n",
    "df1=pd.read_csv('segment.csv',index_col='User ID',usecols=['User ID','Gender','Age','Kids'],dtype={'User ID':str,'Gender':str,'Age':int,'Kids':int})\n",
    "print(df1.head())\n",
    "df1.to_csv('temp_segment_can_delete.csv')"
   ]
  },
  {
   "cell_type": "markdown",
   "metadata": {},
   "source": [
    "#### Create Dataframe from json"
   ]
  },
  {
   "cell_type": "code",
   "execution_count": 89,
   "metadata": {},
   "outputs": [],
   "source": [
    "data='[{\"Name\":\"Nitin\",\"Age\":\"35\",\"job_profile\":[{\"company\":\"News\",\"position\":\"Data Product Manager\"}]},{\"Name\":\"Nikita\",\"Age\":\"35\",\"job_profile\":[{\"company\":\"News\",\"position\":\"Data Product Manager\"}]}]'\n",
    "df=pd.read_json(data)"
   ]
  },
  {
   "cell_type": "code",
   "execution_count": 90,
   "metadata": {},
   "outputs": [
    {
     "data": {
      "text/html": [
       "<div>\n",
       "<style scoped>\n",
       "    .dataframe tbody tr th:only-of-type {\n",
       "        vertical-align: middle;\n",
       "    }\n",
       "\n",
       "    .dataframe tbody tr th {\n",
       "        vertical-align: top;\n",
       "    }\n",
       "\n",
       "    .dataframe thead th {\n",
       "        text-align: right;\n",
       "    }\n",
       "</style>\n",
       "<table border=\"1\" class=\"dataframe\">\n",
       "  <thead>\n",
       "    <tr style=\"text-align: right;\">\n",
       "      <th></th>\n",
       "      <th>Name</th>\n",
       "      <th>Age</th>\n",
       "      <th>job_profile</th>\n",
       "    </tr>\n",
       "  </thead>\n",
       "  <tbody>\n",
       "    <tr>\n",
       "      <td>0</td>\n",
       "      <td>Nitin</td>\n",
       "      <td>35</td>\n",
       "      <td>[{'company': 'News', 'position': 'Data Product...</td>\n",
       "    </tr>\n",
       "    <tr>\n",
       "      <td>1</td>\n",
       "      <td>Nikita</td>\n",
       "      <td>35</td>\n",
       "      <td>[{'company': 'News', 'position': 'Data Product...</td>\n",
       "    </tr>\n",
       "  </tbody>\n",
       "</table>\n",
       "</div>"
      ],
      "text/plain": [
       "     Name  Age                                        job_profile\n",
       "0   Nitin   35  [{'company': 'News', 'position': 'Data Product...\n",
       "1  Nikita   35  [{'company': 'News', 'position': 'Data Product..."
      ]
     },
     "execution_count": 90,
     "metadata": {},
     "output_type": "execute_result"
    }
   ],
   "source": [
    "df"
   ]
  },
  {
   "cell_type": "code",
   "execution_count": 92,
   "metadata": {},
   "outputs": [
    {
     "data": {
      "text/plain": [
       "'[{\"Name\":\"Nitin\",\"Age\":35,\"job_profile\":[{\"company\":\"News\",\"position\":\"Data Product Manager\"}]},{\"Name\":\"Nikita\",\"Age\":35,\"job_profile\":[{\"company\":\"News\",\"position\":\"Data Product Manager\"}]}]'"
      ]
     },
     "execution_count": 92,
     "metadata": {},
     "output_type": "execute_result"
    }
   ],
   "source": [
    "df.to_json(orient=\"records\")"
   ]
  },
  {
   "cell_type": "markdown",
   "metadata": {},
   "source": [
    "#### Create Dataframe from tables in html"
   ]
  },
  {
   "cell_type": "code",
   "execution_count": 94,
   "metadata": {},
   "outputs": [
    {
     "data": {
      "text/plain": [
       "[                       Company name ASX code               GICS industry group\n",
       " 0                               NaN      NaN                               NaN\n",
       " 1              A-CAP ENERGY LIMITED      ACB                            Energy\n",
       " 2    A1 INVESTMENTS & RESOURCES LTD      AYI            Diversified Financials\n",
       " 3             A2B AUSTRALIA LIMITED      A2B                    Transportation\n",
       " 4             ABACUS PROPERTY GROUP      ABP                       Real Estate\n",
       " ..                              ...      ...                               ...\n",
       " 241            AWN HOLDINGS LIMITED      AWN                     Capital Goods\n",
       " 242            AXIOM MINING LIMITED      AVQ                         Materials\n",
       " 243        AXIOM PROPERTIES LIMITED      AXI                       Real Estate\n",
       " 244        AZURE HEALTHCARE LIMITED      AZV  Health Care Equipment & Services\n",
       " 245          AZURE MINERALS LIMITED      AZS                         Materials\n",
       " \n",
       " [246 rows x 3 columns]]"
      ]
     },
     "execution_count": 94,
     "metadata": {},
     "output_type": "execute_result"
    }
   ],
   "source": [
    "pd.read_html('https://www.asx.com.au/asx/research/listedCompanies.do')"
   ]
  },
  {
   "cell_type": "code",
   "execution_count": null,
   "metadata": {},
   "outputs": [],
   "source": []
  }
 ],
 "metadata": {
  "kernelspec": {
   "display_name": "Python 3",
   "language": "python",
   "name": "python3"
  },
  "language_info": {
   "codemirror_mode": {
    "name": "ipython",
    "version": 3
   },
   "file_extension": ".py",
   "mimetype": "text/x-python",
   "name": "python",
   "nbconvert_exporter": "python",
   "pygments_lexer": "ipython3",
   "version": "3.7.1"
  }
 },
 "nbformat": 4,
 "nbformat_minor": 2
}
