{
 "cells": [
  {
   "cell_type": "code",
   "execution_count": 12,
   "metadata": {},
   "outputs": [
    {
     "name": "stdout",
     "output_type": "stream",
     "text": [
      "<class 'int'>\n",
      "My name is Nitin and my daughter's name is Naira\n",
      "5\n",
      "[1, 2, 4, 5, 6]\n",
      "1\n",
      "18\n",
      "3\n",
      "type of a is <class 'set'>\n",
      "Set is {1, 2, 3}\n",
      "Set is {1, 2, 3, 4}\n",
      "Set is {1, 2, 3, 4}\n",
      "type of c is <class 'dict'>\n",
      "{'a': 'b', 'c': 'd', 'e': 1, 'f': [1, 2, 3, 4]}\n",
      "[1, 2, 3, 4]\n",
      "a\n",
      "c\n",
      "e\n",
      "f\n",
      "b\n",
      "d\n",
      "1\n",
      "[1, 2, 3, 4]\n",
      "a b\n",
      "c d\n",
      "e 1\n",
      "f [1, 2, 3, 4]\n",
      "('a', 'b')\n",
      "('c', 'd')\n",
      "('e', 1)\n",
      "('f', [1, 2, 3, 4])\n",
      "<class 'tuple'>\n",
      "My Name is Nitin\n",
      "My name is Nitin and age is 35\n",
      "1\n",
      "2\n",
      "3\n"
     ]
    }
   ],
   "source": [
    "a=1\n",
    "print(type(a))\n",
    "my_name='Nitin'\n",
    "daughter_name='Naira'\n",
    "print(\"My name is {} and my daughter's name is {}\".format(my_name,daughter_name))\n",
    "print(len('Nitin'))\n",
    "\n",
    "#Lists\n",
    "b=[1,2,3]\n",
    "b.extend([4,5])\n",
    "b.append(6)\n",
    "b.pop(2)\n",
    "print(b)\n",
    "print(b.count(4))\n",
    "print(sum(b))\n",
    "print(b.index(5))\n",
    "\n",
    "\n",
    "#Sets : Lists with no duplicate elements\n",
    "a={1,2,3}\n",
    "print(\"type of a is\",type(a))\n",
    "print(\"Set is\",a)\n",
    "a.add(4)\n",
    "print(\"Set is\",a)\n",
    "a.add(4)\n",
    "print(\"Set is\",a)\n",
    "\n",
    "\n",
    "#Dictionaries : Keys and Values\n",
    "c={}\n",
    "print(\"type of c is\",type(c))\n",
    "c={\"a\":\"b\",\"c\":\"d\",\"e\":1,\"f\":[1,2,3,4]}\n",
    "print(c)\n",
    "print(c[\"f\"])\n",
    "for x in c:\n",
    "    print(x)\n",
    "for x in c.values():\n",
    "    print(x)\n",
    "for k,v in c.items():\n",
    "    print(k,v)\n",
    "for x in c.items():\n",
    "    print(x)\n",
    "    \n",
    "#Tuple Array which can't be changed (immutable)\n",
    "a=(1,2,3)\n",
    "print(type(a))\n",
    "\n",
    "#String formst function\n",
    "str1='Nitin'\n",
    "age=35\n",
    "print(\"My Name is \"+str1)\n",
    "print(\"My name is {} and age is {}\".format(str1,age))\n",
    "\n",
    "#Iterator\n",
    "list1=(1,2,3) #Stores all in memory all at once\n",
    "list2=iter(list1) #Stores only the first element, rest can be fetched using next(list)\n",
    "print(next(list2))\n",
    "for i in list2: # For loop works in the same manner as in list 1 as list 2\n",
    "    print(i)"
   ]
  },
  {
   "cell_type": "markdown",
   "metadata": {},
   "source": [
    "#### Keyword and positional arguments"
   ]
  },
  {
   "cell_type": "code",
   "execution_count": 3,
   "metadata": {},
   "outputs": [
    {
     "name": "stdout",
     "output_type": "stream",
     "text": [
      "('nitin', 'verma')\n",
      "{'age': 24, 'dob': 1985}\n"
     ]
    }
   ],
   "source": [
    "#pargs is positional arguments while kargs is keyword arguments\n",
    "\n",
    "def profile(*pargs, **kargs):\n",
    "    print(pargs)\n",
    "    print (kargs)\n",
    "    \n",
    "profile(\"nitin\",\"verma\", age=24, dob=1985)"
   ]
  },
  {
   "cell_type": "markdown",
   "metadata": {},
   "source": [
    "#### Lambda functions, apply, map,  filter, list comprehension"
   ]
  },
  {
   "cell_type": "code",
   "execution_count": 4,
   "metadata": {},
   "outputs": [
    {
     "data": {
      "text/plain": [
       "[1, 4, 9, 16, 25]"
      ]
     },
     "execution_count": 4,
     "metadata": {},
     "output_type": "execute_result"
    }
   ],
   "source": [
    "square=lambda x:x*x\n",
    "square(11)\n",
    "even=lambda x:x%2==0\n",
    "\n",
    "import pandas as pd\n",
    "d={'a':[1,2,3],'b':[4,5,6]}\n",
    "df=pd.DataFrame(d)\n",
    "df.apply(lambda x:x+100) # Left side of lambda function is i/p, Right is o/p, applying here on all columns\n",
    "df.a.apply(lambda x: x*x) # Lambda functions are only possible when there is a single expression, applying here on one column\n",
    "\n",
    "list(map(square,[1,2,3,4,5])) #Applies functions on all elements of list\n",
    "list(filter(even,[1,2,3,4,5,6,7,8])) #Applies filter on all elements of a list\n",
    "\n",
    "# list1=[1,2,3,4,5]\n",
    "# list2=[i*i for i in list1 if i%2!=0] #This is list comprehension (mixture of map and filter)"
   ]
  },
  {
   "cell_type": "markdown",
   "metadata": {},
   "source": []
  },
  {
   "cell_type": "markdown",
   "metadata": {},
   "source": [
    "#### OOPS in Python"
   ]
  },
  {
   "cell_type": "code",
   "execution_count": 20,
   "metadata": {},
   "outputs": [
    {
     "name": "stdout",
     "output_type": "stream",
     "text": [
      "Its a normal car\n",
      "None\n"
     ]
    }
   ],
   "source": [
    "class car:\n",
    "    def __init__(self,enginetype,seats,windows): #This is the constructor\n",
    "        self.enginetype=enginetype #This executes automatically when an object is created\n",
    "        self.seats=seats\n",
    "        self.windows=windows\n",
    "    def normalcar(self):\n",
    "        if(self.enginetype=='Petrol' and self.seats==4):\n",
    "            print(\"Its a normal car\")\n",
    "        else:\n",
    "            print(\"This is not a normal car\")\n",
    "    \n",
    "a=car('Petrol',4,3)\n",
    "print(a.normalcar())"
   ]
  },
  {
   "cell_type": "code",
   "execution_count": null,
   "metadata": {},
   "outputs": [],
   "source": []
  }
 ],
 "metadata": {
  "kernelspec": {
   "display_name": "Python 3",
   "language": "python",
   "name": "python3"
  },
  "language_info": {
   "codemirror_mode": {
    "name": "ipython",
    "version": 3
   },
   "file_extension": ".py",
   "mimetype": "text/x-python",
   "name": "python",
   "nbconvert_exporter": "python",
   "pygments_lexer": "ipython3",
   "version": "3.7.1"
  }
 },
 "nbformat": 4,
 "nbformat_minor": 2
}
