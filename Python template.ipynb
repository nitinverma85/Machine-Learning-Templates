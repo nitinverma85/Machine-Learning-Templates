{
 "cells": [
  {
   "cell_type": "code",
   "execution_count": 8,
   "metadata": {
    "colab": {
     "base_uri": "https://localhost:8080/"
    },
    "executionInfo": {
     "elapsed": 1207,
     "status": "ok",
     "timestamp": 1604822215780,
     "user": {
      "displayName": "Nitin Verma",
      "photoUrl": "",
      "userId": "00144786653539540095"
     },
     "user_tz": -660
    },
    "id": "o8z3Dle6epdL",
    "outputId": "897f6e09-349b-45d3-a904-f080f2582394"
   },
   "outputs": [
    {
     "name": "stdout",
     "output_type": "stream",
     "text": [
      "<class 'int'>\n",
      "My name is Nitin and my daughter's name is Naira\n",
      "5\n",
      "Advanced Print function\n",
      "1 2 3 4 5 \n",
      "[3, 2, 1, 4, 5]\n",
      "[3, 2, 1, 4, 5, 6]\n",
      "[3, 2, 4, 5, 6]\n",
      "1\n",
      "20\n",
      "3\n",
      "[2, 3, 4, 5, 6]\n",
      "type of a is <class 'set'>\n",
      "Set is {1, 2, 3}\n",
      "Set is {1, 2, 3, 4}\n",
      "Set is {1, 2, 3, 4}\n",
      "type of c is <class 'dict'>\n",
      "This is dict\n",
      "{'a': 'b', 'c': 'd', 'e': 1, 'f': [1, 2, 3, 4]}\n",
      "[1, 2, 3, 4]\n",
      "This is dict\n",
      "a\n",
      "c\n",
      "e\n",
      "f\n",
      "This is dict values\n",
      "b\n",
      "d\n",
      "1\n",
      "[1, 2, 3, 4]\n",
      "This is dict items both arguments\n",
      "a b\n",
      "c d\n",
      "e 1\n",
      "f [1, 2, 3, 4]\n",
      "This is dict items first argument\n",
      "('a', 'b')\n",
      "('c', 'd')\n",
      "('e', 1)\n",
      "('f', [1, 2, 3, 4])\n",
      "<class 'tuple'>\n",
      "My Name is Nitin\n",
      "My name is Nitin and age is 35\n",
      "1\n",
      "2\n",
      "3\n"
     ]
    }
   ],
   "source": [
    "a=1\n",
    "print(type(a))\n",
    "my_name='Nitin'\n",
    "daughter_name='Naira'\n",
    "print(\"My name is {} and my daughter's name is {}\".format(my_name,daughter_name))\n",
    "print(len('Nitin'))\n",
    "\n",
    "#Advanced Print function\n",
    "arr=[1,2,3,4,5]\n",
    "print(\"Advanced Print function\")\n",
    "for i in range(len(arr)):\n",
    "  print(arr[i],end=\" \")\n",
    "print()\n",
    "\n",
    "#Lists\n",
    "b=[3,2,1]\n",
    "b.extend([4,5])\n",
    "print(b)\n",
    "b.append(6)\n",
    "print(b)\n",
    "b.pop(2)\n",
    "print(b)\n",
    "print(b.count(4))\n",
    "print(sum(b))\n",
    "print(b.index(5))\n",
    "b.sort()\n",
    "print(b)\n",
    "\n",
    "\n",
    "#Sets : Lists with no duplicate elements\n",
    "a={1,2,3}\n",
    "print(\"type of a is\",type(a))\n",
    "print(\"Set is\",a)\n",
    "a.add(4)\n",
    "print(\"Set is\",a)\n",
    "a.add(4)\n",
    "print(\"Set is\",a)\n",
    "\n",
    "\n",
    "#Dictionaries : Keys and Values\n",
    "c={}\n",
    "print(\"type of c is\",type(c))\n",
    "c={\"a\":\"b\",\"c\":\"d\",\"e\":1,\"f\":[1,2,3,4]}\n",
    "print(\"This is dict\")\n",
    "print(c)\n",
    "print(c[\"f\"])\n",
    "print(\"This is dict\")\n",
    "for x in c:\n",
    "    print(x)\n",
    "print(\"This is dict values\")\n",
    "for x in c.values():\n",
    "    print(x)\n",
    "print(\"This is dict items both arguments\")\n",
    "for k,v in c.items():\n",
    "    print(k,v)\n",
    "print(\"This is dict items first argument\")\n",
    "for x in c.items():\n",
    "    print(x)\n",
    "    \n",
    "#Tuple Array which can't be changed (immutable)\n",
    "a=(1,2,3)\n",
    "print(type(a))\n",
    "\n",
    "#String formst function\n",
    "str1='Nitin'\n",
    "age=35\n",
    "print(\"My Name is \"+str1)\n",
    "print(\"My name is {} and age is {}\".format(str1,age))\n",
    "\n",
    "#Iterator\n",
    "list1=(1,2,3) #Stores all in memory all at once\n",
    "list2=iter(list1) #Stores only the first element, rest can be fetched using next(list)\n",
    "print(next(list2))\n",
    "for i in list2: # For loop works in the same manner as in list 1 as list 2\n",
    "    print(i)"
   ]
  },
  {
   "cell_type": "markdown",
   "metadata": {
    "id": "Tj7QYXQQepdT"
   },
   "source": [
    "#### Keyword and positional arguments\n",
    "#### Decorators"
   ]
  },
  {
   "cell_type": "code",
   "execution_count": 2,
   "metadata": {
    "colab": {
     "base_uri": "https://localhost:8080/"
    },
    "executionInfo": {
     "elapsed": 2049,
     "status": "ok",
     "timestamp": 1604832872813,
     "user": {
      "displayName": "Nitin Verma",
      "photoUrl": "",
      "userId": "00144786653539540095"
     },
     "user_tz": -660
    },
    "id": "pz2zt1D_epdU",
    "outputId": "26141ab0-b128-4078-dc04-de8fe0c6587f"
   },
   "outputs": [
    {
     "name": "stdout",
     "output_type": "stream",
     "text": [
      "('nitin', 'verma')\n",
      "{'age': 24, 'dob': 1985}\n",
      "In f1\n",
      "In f2\n"
     ]
    }
   ],
   "source": [
    "#pargs is positional arguments while kargs is keyword arguments\n",
    "\n",
    "def profile(*pargs, **kargs):\n",
    "    print(pargs)\n",
    "    print (kargs)\n",
    "    \n",
    "profile(\"nitin\",\"verma\", age=24, dob=1985)\n",
    "\n",
    "def f1(f2):\n",
    "  print(\"In f1\")\n",
    "  return(f2)\n",
    "\n",
    "@f1\n",
    "def f2():\n",
    "  print(\"In f2\")\n",
    "\n",
    "f2()"
   ]
  },
  {
   "cell_type": "markdown",
   "metadata": {
    "id": "hTkkFEYNepdY"
   },
   "source": [
    "#### Lambda functions, apply, map,  filter, list comprehension"
   ]
  },
  {
   "cell_type": "code",
   "execution_count": 12,
   "metadata": {
    "id": "ezEQRn_mepdZ",
    "outputId": "3d6b0971-2e6d-4899-abee-b3cdfb47bb59"
   },
   "outputs": [
    {
     "name": "stdout",
     "output_type": "stream",
     "text": [
      "   a  b\n",
      "0  1  4\n",
      "1  2  5\n",
      "2  3  6\n",
      "     a    b\n",
      "0  101  104\n",
      "1  102  105\n",
      "2  103  106\n",
      "0    10201\n",
      "1    10404\n",
      "2    10609\n",
      "Name: a, dtype: int64\n",
      "[1, 4, 9, 16, 25]\n",
      "[2, 4, 6, 8]\n"
     ]
    }
   ],
   "source": [
    "square=lambda x:x*x\n",
    "square(11)\n",
    "even=lambda x:x%2==0\n",
    "\n",
    "import pandas as pd\n",
    "d={'a':[1,2,3],'b':[4,5,6]}\n",
    "df=pd.DataFrame(d)\n",
    "print(df)\n",
    "df=df.apply(lambda x:x+100) # Left side of lambda function is i/p, Right is o/p, applying here on all columns\n",
    "print(df)\n",
    "df=df.a.apply(lambda x: x*x) # Lambda functions are only possible when there is a single expression, applying here on one column\n",
    "print(df)\n",
    "df=list(map(square,[1,2,3,4,5])) #Applies functions on all elements of list\n",
    "print(df)\n",
    "df=list(filter(even,[1,2,3,4,5,6,7,8])) #Applies filter on all elements of a list\n",
    "print(df)\n",
    "# list1=[1,2,3,4,5]\n",
    "# list2=[i*i for i in list1 if i%2!=0] #This is list comprehension (mixture of map and filter)"
   ]
  },
  {
   "cell_type": "markdown",
   "metadata": {
    "id": "RiOqvLcZepdf"
   },
   "source": [
    "#### OOPS in Python"
   ]
  },
  {
   "cell_type": "code",
   "execution_count": 16,
   "metadata": {
    "colab": {
     "base_uri": "https://localhost:8080/"
    },
    "executionInfo": {
     "elapsed": 1136,
     "status": "ok",
     "timestamp": 1604847503607,
     "user": {
      "displayName": "Nitin Verma",
      "photoUrl": "",
      "userId": "00144786653539540095"
     },
     "user_tz": -660
    },
    "id": "vn9W8Cmjepdg",
    "outputId": "09482308-1e78-45f0-af6f-c72511b9d5a6"
   },
   "outputs": [
    {
     "name": "stdout",
     "output_type": "stream",
     "text": [
      "Its a normal car\n",
      "4\n",
      "3\n",
      "3\n"
     ]
    }
   ],
   "source": [
    "class car:\n",
    "    wheels=4\n",
    "    def __init__(self,enginetype,seats,windows): #This is the constructor\n",
    "        self.enginetype=enginetype #This executes automatically when an object is created\n",
    "        self.seats=seats\n",
    "        self.windows=windows\n",
    "    def normalcar(self):\n",
    "        if(self.enginetype=='Petrol' and self.seats==4):\n",
    "            print(\"Its a normal car\")\n",
    "        else:\n",
    "            print(\"This is not a normal car\")\n",
    "#     @classmethod        \n",
    "    def get_wheels(cls):\n",
    "      return(cls.wheels)\n",
    "    \n",
    "a=car('Petrol',4,3)\n",
    "b=car('Petrol',4,3)\n",
    "a.normalcar()\n",
    "print(b.wheels)\n",
    "car.wheels=3\n",
    "print(b.wheels)\n",
    "print(car.get_wheels(car))\n",
    "car.wheels\n",
    "\n",
    "\n",
    "\n",
    "# Inheritance\n",
    "\n",
    "class A:\n",
    "  def __init__(self,x,y):\n",
    "    self.x=x\n",
    "    self.y=y\n",
    "  def f1(self):\n",
    "    print(\"In f1\")\n",
    "\n",
    "class B(A):\n",
    "  def __init__(self,x,y):\n",
    "    super.__init__(self.x,self.y)\n",
    "  def f2(self):\n",
    "    print(\"In f2\")\n",
    "\n",
    "a=A(1,2)\n",
    "# print(a.x)\n",
    "# a.f1()\n",
    "\n",
    "# Polymorphism (1 thing, many forms) - Duck typing, Operator overloading, Method overloading, Method overriding\n",
    "\n",
    "#Duck typing: If a method with the same name is present in 2 classes, you can call it from objects of either class\n",
    "\n",
    "# Operator overloading : Rewriting default functions for our own classes (like __add__ for a class won't work usually, but if we write it, it will work) \n",
    "\n",
    "# Method overloading : You can pass more variables (infinite) in a function and keep their default values as None (since all of them won't be passed)\n",
    "\n",
    "#Method overriding : You write a function in the child class that overrides the same function in parent class\n",
    "\n",
    "\n",
    "\n"
   ]
  },
  {
   "cell_type": "markdown",
   "metadata": {
    "id": "EQpRIeim4Uyo"
   },
   "source": [
    "#### Reading a file"
   ]
  },
  {
   "cell_type": "code",
   "execution_count": null,
   "metadata": {
    "colab": {
     "base_uri": "https://localhost:8080/",
     "height": 185
    },
    "executionInfo": {
     "elapsed": 898,
     "status": "error",
     "timestamp": 1604789099031,
     "user": {
      "displayName": "Nitin Verma",
      "photoUrl": "",
      "userId": "00144786653539540095"
     },
     "user_tz": -660
    },
    "id": "KcM8QL5M4XgP",
    "outputId": "fd1ddccc-dc6e-408c-8612-28fbd1e1ff95"
   },
   "outputs": [
    {
     "ename": "FileNotFoundError",
     "evalue": "ignored",
     "output_type": "error",
     "traceback": [
      "\u001b[0;31m---------------------------------------------------------------------------\u001b[0m",
      "\u001b[0;31mFileNotFoundError\u001b[0m                         Traceback (most recent call last)",
      "\u001b[0;32m<ipython-input-25-8198d79d8b5f>\u001b[0m in \u001b[0;36m<module>\u001b[0;34m()\u001b[0m\n\u001b[0;32m----> 1\u001b[0;31m \u001b[0;32mwith\u001b[0m \u001b[0mopen\u001b[0m \u001b[0;34m(\u001b[0m\u001b[0;34m'data.txt'\u001b[0m\u001b[0;34m,\u001b[0m\u001b[0;34m'r'\u001b[0m\u001b[0;34m)\u001b[0m \u001b[0;32mas\u001b[0m \u001b[0mf\u001b[0m\u001b[0;34m:\u001b[0m\u001b[0;34m\u001b[0m\u001b[0;34m\u001b[0m\u001b[0m\n\u001b[0m\u001b[1;32m      2\u001b[0m   \u001b[0mcontents\u001b[0m\u001b[0;34m=\u001b[0m\u001b[0mf\u001b[0m\u001b[0;34m.\u001b[0m\u001b[0mread\u001b[0m\u001b[0;34m(\u001b[0m\u001b[0;34m)\u001b[0m\u001b[0;34m\u001b[0m\u001b[0;34m\u001b[0m\u001b[0m\n",
      "\u001b[0;31mFileNotFoundError\u001b[0m: [Errno 2] No such file or directory: 'data.txt'"
     ]
    }
   ],
   "source": [
    "with open ('data.txt','r') as f:\n",
    "  contents=f.read()"
   ]
  },
  {
   "cell_type": "markdown",
   "metadata": {
    "id": "Kt2op1-M_s0R"
   },
   "source": [
    "### Regular expressions in Python\n",
    "\n",
    "- . : Any character \n",
    "- \\d : Digits\n",
    "- \\D : Not a Digit\n",
    "- \\w or \\W : Normal character (includes chars, numbers, underscore)\n",
    "- \\s or \\S : Whitespace (space/tab/newline)\n",
    "- \\b or \\B : Word boundry\n",
    "- \\^ or \\$ : Start of a String or End of a string \n",
    "- [] : Character set: Matches a range like [a-z1-9]. Add ^ for opposite inside the []. \n",
    "- \\. : Matches any character except new line\n",
    "- \\*  : 0 or more (to be put after a character)\n",
    "- \\+ : 1 or more (to be put after a character)\n",
    "- \\? : 0 or 1 (to be put after a character)\n",
    "- {3} : Exact number(to be put after a character)\n",
    "- {3,4} : Range of numbers (min and max) (to be put after a character)\n",
    "- Or is denoted by |\n",
    "\n",
    "### SQL\n",
    "\n",
    "- % : Zero or more characters\n",
    "- _ : One character\n"
   ]
  },
  {
   "cell_type": "code",
   "execution_count": 30,
   "metadata": {
    "colab": {
     "base_uri": "https://localhost:8080/"
    },
    "executionInfo": {
     "elapsed": 919,
     "status": "ok",
     "timestamp": 1604798226171,
     "user": {
      "displayName": "Nitin Verma",
      "photoUrl": "",
      "userId": "00144786653539540095"
     },
     "user_tz": -660
    },
    "id": "ztJWEhEIepdk",
    "outputId": "2a893700-a9e2-45f6-f573-0501c178b5d8"
   },
   "outputs": [
    {
     "name": "stdout",
     "output_type": "stream",
     "text": [
      "11\n",
      "['Nitin', 'Nitin', 'Nitin']\n",
      "11\n",
      "84\n",
      "190\n",
      "My name is Nitin and Nitvik.My daughter's name is Naira.NAIRA is 6 years old while Nitin is 35 years old.My phone number is 0475281321 and Nikita's phone number is 0475281796.475 281 321. Nitinverma85@gmail.com, Naira.Verma14@gmail.com.\n",
      "['My', 'Nitin', 'Nitvik', 'My', 'Naira', 'NAIRA', 'Nitin', 'My', 'Nikita', 'Nitinverma', 'Naira', 'Verma']\n",
      "['Nitin has 3 cats', ' Naira has 2 dogs', ' Nikita has 3 cows']\n"
     ]
    }
   ],
   "source": [
    "import re\n",
    "str=r\"\"\"My name is Nitin and  Nitvik.My daughter's name is Naira.NAIRA is 6 years old\n",
    "while Nitin is 35 years old.My phone number is 0475281321 and Nikita's phone number is \n",
    "0475281796.475 281 321. Nitinverma85@gmail.com, Naira.Verma14@gmail.com.\"\"\"\n",
    "\n",
    "str1=\"Nitin has 3 cats but is happy. Naira has 2 dogs and is not happy. Nikita has 3 cows\"\n",
    "# We've used r above to ensure python special characters become text. \n",
    "#So, for example, new line becomes \\n. Note that \\n is 1 character\n",
    "\n",
    "\n",
    "print(re.search('Nitin',str).start()) # Matches anywhere in the string, but only the first instance\n",
    "re.match('Nitin',str) # Matches at the beginning of the string\n",
    "print(re.findall('Nitin',str)) # Finds number of instances\n",
    "\n",
    "#If you want to find position of all instances of the string\n",
    "pattern=re.compile('Nitin')\n",
    "iterator=pattern.finditer(str)\n",
    "for iter in iterator:\n",
    "    print (iter.start())\n",
    "    \n",
    "\n",
    "# Replace double spaces by single spaces\n",
    "print(\" \".join(re.findall('\\S+',str)))\n",
    "\n",
    "# Find all words starting with capital letters\n",
    "print(re.findall('[A-Z][A-Za-z]+',str))\n",
    "\n",
    "#Find how many animals each person has in string 2\n",
    "print(re.findall('[A-za-z,\\s]+\\d\\s[a-z]+',str1))\n",
    "\n"
   ]
  },
  {
   "cell_type": "code",
   "execution_count": 37,
   "metadata": {
    "colab": {
     "base_uri": "https://localhost:8080/"
    },
    "executionInfo": {
     "elapsed": 5113,
     "status": "ok",
     "timestamp": 1604828705816,
     "user": {
      "displayName": "Nitin Verma",
      "photoUrl": "",
      "userId": "00144786653539540095"
     },
     "user_tz": -660
    },
    "id": "Ph4Edid1_z3M",
    "outputId": "5f5cf823-c9c2-4263-f312-f1785ac24e9f"
   },
   "outputs": [
    {
     "name": "stdout",
     "output_type": "stream",
     "text": [
      "56"
     ]
    }
   ],
   "source": [
    "import re\n",
    "str=\"I am Nitin 56\"\n",
    "\n",
    "pattern=re.compile(r'\\d')\n",
    "for iter in pattern.finditer(str):\n",
    "    print (str[iter.span()[0]],end=\"\")\n"
   ]
  },
  {
   "cell_type": "code",
   "execution_count": 46,
   "metadata": {
    "colab": {
     "base_uri": "https://localhost:8080/"
    },
    "executionInfo": {
     "elapsed": 1573,
     "status": "ok",
     "timestamp": 1604825153687,
     "user": {
      "displayName": "Nitin Verma",
      "photoUrl": "",
      "userId": "00144786653539540095"
     },
     "user_tz": -660
    },
    "id": "IXTJlYcIrf02",
    "outputId": "64a2854a-109f-4f90-e3fd-5bb2486d2c4c"
   },
   "outputs": [
    {
     "data": {
      "text/plain": [
       "10"
      ]
     },
     "execution_count": 46,
     "metadata": {},
     "output_type": "execute_result"
    }
   ],
   "source": [
    "a=lambda x:x+5\n",
    "a(5)"
   ]
  },
  {
   "cell_type": "markdown",
   "metadata": {
    "colab": {
     "base_uri": "https://localhost:8080/"
    },
    "executionInfo": {
     "elapsed": 5167,
     "status": "ok",
     "timestamp": 1604825823418,
     "user": {
      "displayName": "Nitin Verma",
      "photoUrl": "",
      "userId": "00144786653539540095"
     },
     "user_tz": -660
    },
    "id": "W0lQNRfNBmi6",
    "outputId": "459735a6-29a3-44cd-df1e-b944c60afced"
   },
   "source": [
    "#SQL joins\n",
    "\n",
    "1. All permutations and combinations if you write select t1.a,t2.b from t1,t2\n",
    "2. Matching combinations if you write select t1.a,t2.b from t1,t2 where t1.a=t2.b\n",
    "3. Same as inner join when you write select t1.a,t2.b from t1 inner join t2 where t1.a=t2.b\n",
    "4. \n",
    "\n"
   ]
  },
  {
   "cell_type": "code",
   "execution_count": null,
   "metadata": {
    "colab": {
     "base_uri": "https://localhost:8080/"
    },
    "executionInfo": {
     "elapsed": 1284,
     "status": "ok",
     "timestamp": 1604831656799,
     "user": {
      "displayName": "Nitin Verma",
      "photoUrl": "",
      "userId": "00144786653539540095"
     },
     "user_tz": -660
    },
    "id": "WzGfLtvdCphT",
    "outputId": "e3d3b652-7e2f-46d6-9a56-1bab66f21777"
   },
   "outputs": [],
   "source": [
    "\n"
   ]
  },
  {
   "cell_type": "code",
   "execution_count": null,
   "metadata": {
    "colab": {
     "base_uri": "https://localhost:8080/"
    },
    "executionInfo": {
     "elapsed": 798,
     "status": "ok",
     "timestamp": 1604832202707,
     "user": {
      "displayName": "Nitin Verma",
      "photoUrl": "",
      "userId": "00144786653539540095"
     },
     "user_tz": -660
    },
    "id": "Fl9evQhoDhU7",
    "outputId": "44bbd525-d616-4e9a-88dd-5271b9049963"
   },
   "outputs": [],
   "source": []
  },
  {
   "cell_type": "code",
   "execution_count": null,
   "metadata": {
    "executionInfo": {
     "elapsed": 1498,
     "status": "ok",
     "timestamp": 1605211548050,
     "user": {
      "displayName": "Nitin Verma",
      "photoUrl": "",
      "userId": "00144786653539540095"
     },
     "user_tz": -660
    },
    "id": "J8IVRB8vct-4"
   },
   "outputs": [],
   "source": [
    "\n"
   ]
  },
  {
   "cell_type": "code",
   "execution_count": null,
   "metadata": {
    "colab": {
     "base_uri": "https://localhost:8080/"
    },
    "executionInfo": {
     "elapsed": 1301,
     "status": "ok",
     "timestamp": 1605211698112,
     "user": {
      "displayName": "Nitin Verma",
      "photoUrl": "",
      "userId": "00144786653539540095"
     },
     "user_tz": -660
    },
    "id": "5O1qKeTHY32Z",
    "outputId": "017afe67-9cf6-49af-a38c-5132c4689d51"
   },
   "outputs": [],
   "source": []
  },
  {
   "cell_type": "code",
   "execution_count": null,
   "metadata": {
    "id": "iG3v1RaGBIlo"
   },
   "outputs": [],
   "source": []
  }
 ],
 "metadata": {
  "colab": {
   "name": "Python template.ipynb",
   "provenance": []
  },
  "kernelspec": {
   "display_name": "Python 3",
   "language": "python",
   "name": "python3"
  },
  "language_info": {
   "codemirror_mode": {
    "name": "ipython",
    "version": 3
   },
   "file_extension": ".py",
   "mimetype": "text/x-python",
   "name": "python",
   "nbconvert_exporter": "python",
   "pygments_lexer": "ipython3",
   "version": "3.8.5"
  }
 },
 "nbformat": 4,
 "nbformat_minor": 1
}
